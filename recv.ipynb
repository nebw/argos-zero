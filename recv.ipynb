{
 "cells": [
  {
   "cell_type": "code",
   "execution_count": 1,
   "metadata": {
    "ExecuteTime": {
     "end_time": "2018-02-28T13:27:46.483478Z",
     "start_time": "2018-02-28T13:27:46.306667Z"
    },
    "collapsed": false
   },
   "outputs": [],
   "source": [
    "import h5py\n",
    "import socket\n",
    "import capnp\n",
    "import sys\n",
    "import struct\n",
    "from os.path import exists\n",
    "import json"
   ]
  },
  {
   "cell_type": "code",
   "execution_count": 2,
   "metadata": {
    "ExecuteTime": {
     "end_time": "2018-02-28T13:17:56.347779Z",
     "start_time": "2018-02-28T13:17:56.224483Z"
    },
    "collapsed": false
   },
   "outputs": [
    {
     "name": "stdout",
     "output_type": "stream",
     "text": [
      "@0xc6310a89d98447e4;\r\n",
      "\r\n",
      "struct StateProb {\r\n",
      "\r\n",
      "    idx @0 :UInt16;                         # sequential index of game move starting at 0\r\n",
      "    state @1 :List(Float32);                # the current state representing the board position, flattended array\r\n",
      "    probs @2 :List(Float32);                # probabilities for each legal move at the given state\r\n",
      "\r\n",
      "}\r\n",
      "\r\n",
      "struct Game {\r\n",
      "\r\n",
      "    id @0 :Text;                            # global unique id of the game in text format\r\n",
      "    stateprobs @1 :List(StateProb);         # states and probabilities of the game\r\n",
      "    timestamp @2 :Float64;                  # unix time stamp of the game\r\n",
      "    result @3 :Bool;                        # 1 white wins, 0 black wins\r\n",
      "    network1 @4 :Text;                      # network that played player one in the selfplay\r\n",
      "    network2 @5 :Text;                      # network that played player two in the selfplay\r\n",
      "    boardsize @6: UInt8;                    # size of the board, 19 in real go, anything smaller to speed up training\r\n",
      "\r\n",
      "}\r\n"
     ]
    }
   ],
   "source": [
    "!cat /home/franziska/Documents/Master/sem1/argos-zero/src/capnp/CapnpGame.capnp"
   ]
  },
  {
   "cell_type": "code",
   "execution_count": 3,
   "metadata": {
    "collapsed": true
   },
   "outputs": [],
   "source": [
    "def recvall(sock, n):\n",
    "    # Helper function to recv n bytes or return None if EOF is hit\n",
    "    data = b''\n",
    "    while len(data) < n:\n",
    "        packet = sock.recv(n - len(data))\n",
    "        if not packet:\n",
    "            return data\n",
    "        data += packet\n",
    "    return data"
   ]
  },
  {
   "cell_type": "code",
   "execution_count": null,
   "metadata": {
    "ExecuteTime": {
     "end_time": "2018-02-28T13:33:46.006172Z",
     "start_time": "2018-02-28T13:33:45.976311Z"
    },
    "collapsed": false
   },
   "outputs": [],
   "source": [
    "class GameLogger:\n",
    "    def __init__(self, port, schema_path, filename):\n",
    "        self._init_socket(port)\n",
    "        self._init_proto(schema_path)\n",
    "        self._init_h5(filename)\n",
    "        \n",
    "    def _init_socket(self, port):\n",
    "        self.server = socket.socket(socket.AF_INET, socket.SOCK_STREAM)\n",
    "        #self.server.bind((socket.gethostname(), PORT))\n",
    "        self.server.bind((\"localhost\", PORT))\n",
    "        self.server.listen(50)\n",
    "        self.server.setsockopt(socket.SOL_SOCKET, socket.SO_REUSEADDR, 1)\n",
    "        \n",
    "    def _init_proto(self, schema_path):\n",
    "        self.schema = capnp.load(schema_path)\n",
    "        \n",
    "    def _init_h5(self, filename):\n",
    "        file = filename + '.h5'\n",
    "        \n",
    "        if exists(file):\n",
    "            self.f = h5py.File(file, 'a')\n",
    "        else:\n",
    "            self.f = h5py.File(file, 'a')\n",
    "        \n",
    "    def _write_h5(self, msg):\n",
    "        limited_state_num = 1000\n",
    "\n",
    "        # define explicit unicode vlen type\n",
    "        dt = h5py.special_dtype(vlen=str)\n",
    "\n",
    "        # create gamerecord dataset with name \"json_game_record\"\n",
    "        if \"json_game_record\" in self.f.keys():\n",
    "            gamerecord_dataset = self.f[\"json_game_record\"]\n",
    "        else:\n",
    "            gamerecord_dataset = self.f.create_dataset('json_game_record', (limited_state_num,) ,dtype=dt)\n",
    "            gamerecord_dataset.attrs['count_id'] = 0\n",
    "        \n",
    "        \n",
    "        # convert to msg to game infos\n",
    "        game_infos = self.schema.Game.from_bytes(msg)\n",
    "        \n",
    "        game_dict = game_infos.to_dict()\n",
    "        \n",
    "        # iteratively take stateprob from stateprobs\n",
    "        for stateprob in game_infos.stateprobs:\n",
    "            game_dict['stateprobs'] = stateprob.to_dict()\n",
    "            current_id = gamerecord_dataset.attrs['count_id']\n",
    "            gamerecord_dataset[current_id] = json.dumps(game_dict)\n",
    "            gamerecord_dataset.attrs['count_id'] += 1\n",
    "            \n",
    "            if limited_state_num == current_id:\n",
    "                \n",
    "        \n",
    "        \n",
    "    def listen(self):\n",
    "        try:\n",
    "            sys.stdout.flush()\n",
    "            \n",
    "\n",
    "            while True:\n",
    "                client, address = self.server.accept()\n",
    "                msg = recvall(client, 4096 * 100)\n",
    "                #print(len(msg))\n",
    "                #file = open(\"testfile\",'wb') \n",
    "                #file.write(msg) \n",
    "                #file.close()\n",
    "                #print(\"file written\")\n",
    "                #game =self.schema.Game.read(file)\n",
    " \n",
    "                game = self.schema.Game.from_bytes(msg)\n",
    "                #print(self.schema.Game.from_bytes(msg))\n",
    "\n",
    "                self._write_h5(msg)\n",
    "                print(self.f[\"json_game_record\"].attrs['count_id'])\n",
    "                \n",
    "        finally:\n",
    "            self.server.close()\n",
    "            self.f.close()\n",
    "            print(\"closed\")"
   ]
  },
  {
   "cell_type": "code",
   "execution_count": null,
   "metadata": {
    "ExecuteTime": {
     "end_time": "2018-02-28T13:37:12.942046Z",
     "start_time": "2018-02-28T13:33:49.825425Z"
    },
    "collapsed": false,
    "scrolled": true
   },
   "outputs": [
    {
     "name": "stdout",
     "output_type": "stream",
     "text": [
      "17\n"
     ]
    }
   ],
   "source": [
    "PORT = 8000\n",
    "logger = GameLogger(port=PORT, schema_path='/home/franziska/Documents/Master/sem1/argos-zero/src/capnp/CapnpGame.capnp', filename = 'game_record')\n",
    "logger.listen()"
   ]
  },
  {
   "cell_type": "code",
   "execution_count": null,
   "metadata": {
    "ExecuteTime": {
     "end_time": "2018-02-28T13:46:33.380876Z",
     "start_time": "2018-02-28T13:46:33.376564Z"
    },
    "collapsed": false
   },
   "outputs": [],
   "source": [
    "msg.to_dict()"
   ]
  },
  {
   "cell_type": "code",
   "execution_count": null,
   "metadata": {
    "collapsed": false
   },
   "outputs": [],
   "source": [
    "logger.server.close()"
   ]
  },
  {
   "cell_type": "markdown",
   "metadata": {},
   "source": [
    "## HDF5"
   ]
  },
  {
   "cell_type": "code",
   "execution_count": null,
   "metadata": {
    "ExecuteTime": {
     "end_time": "2018-02-28T13:37:17.573302Z",
     "start_time": "2018-02-28T13:37:17.568507Z"
    },
    "collapsed": true
   },
   "outputs": [],
   "source": [
    "f = h5py.File(\"game_record.h5\")"
   ]
  },
  {
   "cell_type": "code",
   "execution_count": null,
   "metadata": {
    "ExecuteTime": {
     "end_time": "2018-02-28T13:37:18.660655Z",
     "start_time": "2018-02-28T13:37:18.657209Z"
    },
    "collapsed": false
   },
   "outputs": [],
   "source": [
    "f[\"json_game_record\"][0]"
   ]
  },
  {
   "cell_type": "code",
   "execution_count": null,
   "metadata": {
    "collapsed": true
   },
   "outputs": [],
   "source": [
    "# todo\n",
    "# new file if old one is full\n",
    "\n",
    "\n",
    "#done: \n",
    "# append multiple games: check\n",
    "# take multiple connections: queue\n",
    "# open file correctly also if already exists\n",
    "\n",
    "# remote connection(ben!)"
   ]
  },
  {
   "cell_type": "code",
   "execution_count": null,
   "metadata": {
    "collapsed": false
   },
   "outputs": [],
   "source": [
    "f = h5py.File(\"game_record1.h5\", 'a')"
   ]
  },
  {
   "cell_type": "code",
   "execution_count": null,
   "metadata": {
    "collapsed": true
   },
   "outputs": [],
   "source": []
  }
 ],
 "metadata": {
  "kernelspec": {
   "display_name": "Python 3",
   "language": "python",
   "name": "python3"
  },
  "language_info": {
   "codemirror_mode": {
    "name": "ipython",
    "version": 3
   },
   "file_extension": ".py",
   "mimetype": "text/x-python",
   "name": "python",
   "nbconvert_exporter": "python",
   "pygments_lexer": "ipython3",
   "version": "3.5.2"
  },
  "toc": {
   "nav_menu": {},
   "number_sections": false,
   "sideBar": true,
   "skip_h1_title": false,
   "toc_cell": false,
   "toc_position": {},
   "toc_section_display": "block",
   "toc_window_display": true
  }
 },
 "nbformat": 4,
 "nbformat_minor": 2
}
