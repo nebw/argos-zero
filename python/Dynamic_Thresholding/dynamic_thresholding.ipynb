{
 "cells": [
  {
   "cell_type": "code",
   "execution_count": 13,
   "metadata": {
    "ExecuteTime": {
     "end_time": "2018-03-09T13:05:04.065686Z",
     "start_time": "2018-03-09T13:05:04.052809Z"
    }
   },
   "outputs": [],
   "source": [
    "import h5py\n",
    "import capnp\n",
    "import os\n",
    "import numpy as np\n",
    "import matplotlib.pyplot as plt\n",
    "%matplotlib inline"
   ]
  },
  {
   "cell_type": "code",
   "execution_count": 14,
   "metadata": {
    "ExecuteTime": {
     "end_time": "2018-03-09T13:05:04.477310Z",
     "start_time": "2018-03-09T13:05:04.468487Z"
    }
   },
   "outputs": [],
   "source": [
    "path_to_schema = \"../../src/capnp/CapnpGame.capnp\"\n",
    "path_to_game_folder = \"/Users/florian/Desktop/games2/\""
   ]
  },
  {
   "cell_type": "code",
   "execution_count": 15,
   "metadata": {
    "ExecuteTime": {
     "end_time": "2018-03-09T13:05:04.912609Z",
     "start_time": "2018-03-09T13:05:04.907925Z"
    }
   },
   "outputs": [],
   "source": [
    "schema = capnp.load(path_to_schema).Game"
   ]
  },
  {
   "cell_type": "code",
   "execution_count": 16,
   "metadata": {
    "ExecuteTime": {
     "end_time": "2018-03-09T13:05:05.423412Z",
     "start_time": "2018-03-09T13:05:05.411846Z"
    }
   },
   "outputs": [],
   "source": [
    "def get_games_from_hdf5(path_to_game_folder):\n",
    "    games = []\n",
    "\n",
    "    for file in os.listdir(path_to_game_folder):\n",
    "        if file.endswith(\".h5\"):\n",
    "            f = h5py.File(path_to_game_folder + file, \"r\")\n",
    "            dataset = f[\"game_record\"]\n",
    "\n",
    "            for i in range(dataset.attrs[\"count_id\"]):\n",
    "                game = schema.from_bytes(dataset[i].tostring())\n",
    "                games.append(game)\n",
    "                \n",
    "    return games"
   ]
  },
  {
   "cell_type": "code",
   "execution_count": 19,
   "metadata": {
    "ExecuteTime": {
     "end_time": "2018-03-09T13:05:19.013498Z",
     "start_time": "2018-03-09T13:05:19.003032Z"
    }
   },
   "outputs": [],
   "source": [
    "def get_games_from_hdf5(list_of_files, schema):\n",
    "    \"\"\" list_of_files: absolute path of hdf5 files\"\"\"\n",
    "    games = []\n",
    "\n",
    "    for file in list_of_files:\n",
    "        if file.endswith(\".h5\"):\n",
    "            f = h5py.File(file, \"r\")\n",
    "            dataset = f[\"game_record\"]\n",
    "\n",
    "            for i in range(dataset.attrs[\"count_id\"]):\n",
    "                game = schema.from_bytes(dataset[i].tostring())\n",
    "                games.append(game)\n",
    "                \n",
    "    return games"
   ]
  },
  {
   "cell_type": "code",
   "execution_count": 11,
   "metadata": {
    "ExecuteTime": {
     "end_time": "2018-03-09T10:47:50.835914Z",
     "start_time": "2018-03-09T10:47:50.832139Z"
    }
   },
   "outputs": [
    {
     "data": {
      "text/plain": [
       "3100"
      ]
     },
     "execution_count": 11,
     "metadata": {},
     "output_type": "execute_result"
    }
   ],
   "source": [
    "len(games)"
   ]
  },
  {
   "cell_type": "code",
   "execution_count": 7,
   "metadata": {
    "ExecuteTime": {
     "end_time": "2018-03-09T10:47:42.993341Z",
     "start_time": "2018-03-09T10:47:42.988142Z"
    }
   },
   "outputs": [],
   "source": [
    "def get_games_without_res(games):\n",
    "    \"\"\"filter games such that we only have games with no resignation\"\"\"\n",
    "    return [game for game in games if game.noresignmode]"
   ]
  },
  {
   "cell_type": "code",
   "execution_count": 8,
   "metadata": {
    "ExecuteTime": {
     "end_time": "2018-03-09T10:47:43.607058Z",
     "start_time": "2018-03-09T10:47:43.350193Z"
    }
   },
   "outputs": [],
   "source": [
    "games = get_games_without_res(games)"
   ]
  },
  {
   "cell_type": "code",
   "execution_count": 9,
   "metadata": {
    "ExecuteTime": {
     "end_time": "2018-03-09T10:47:43.954474Z",
     "start_time": "2018-03-09T10:47:43.950284Z"
    }
   },
   "outputs": [
    {
     "data": {
      "text/plain": [
       "0"
      ]
     },
     "execution_count": 9,
     "metadata": {},
     "output_type": "execute_result"
    }
   ],
   "source": [
    "len(games)"
   ]
  },
  {
   "cell_type": "code",
   "execution_count": 30,
   "metadata": {
    "ExecuteTime": {
     "end_time": "2018-03-09T10:51:28.829509Z",
     "start_time": "2018-03-09T10:51:28.819778Z"
    }
   },
   "outputs": [],
   "source": [
    "def get_winrates_for_player(games, player):\n",
    "    \"\"\"Returns the winrates for only the given player\"\"\"\n",
    "    winrate_lists = [[sp.winrate for sp in game.stateprobs] for game in games]    \n",
    "    filtered_winrates_list = []\n",
    "    \n",
    "    for winrates in winrate_lists:\n",
    "        filtered_winrates = [winrate for i, winrate in enumerate(winrates) if i % 2 == player]\n",
    "        filtered_winrates_list.append(filtered_winrates)\n",
    "        \n",
    "    return filtered_winrates_list"
   ]
  },
  {
   "cell_type": "code",
   "execution_count": 31,
   "metadata": {
    "ExecuteTime": {
     "end_time": "2018-03-09T10:51:29.576087Z",
     "start_time": "2018-03-09T10:51:29.572680Z"
    }
   },
   "outputs": [],
   "source": [
    "def get_games_won_by_player(games, player):\n",
    "    return [game for game in games if game.result == player]"
   ]
  },
  {
   "cell_type": "code",
   "execution_count": 32,
   "metadata": {
    "ExecuteTime": {
     "end_time": "2018-03-09T10:51:29.829086Z",
     "start_time": "2018-03-09T10:51:29.823820Z"
    }
   },
   "outputs": [],
   "source": [
    "def get_winrates_for_games_won_by_player(games, player):\n",
    "    \"\"\"Get the winrates only for this player in the games won by the player\"\"\"\n",
    "    games_won_by_player = get_games_won_by_player(games, player)\n",
    "    only_player_winrates = get_winrates_for_player(games_won_by_player, player)\n",
    "    \n",
    "    return only_player_winrates"
   ]
  },
  {
   "cell_type": "code",
   "execution_count": 33,
   "metadata": {
    "ExecuteTime": {
     "end_time": "2018-03-09T10:51:30.456368Z",
     "start_time": "2018-03-09T10:51:30.242858Z"
    }
   },
   "outputs": [],
   "source": [
    "black = get_winrates_for_games_won_by_player(games, 1)\n",
    "white = get_winrates_for_games_won_by_player(games, 0)\n",
    "\n",
    "dataset = black + white"
   ]
  },
  {
   "cell_type": "code",
   "execution_count": 34,
   "metadata": {
    "ExecuteTime": {
     "end_time": "2018-03-09T10:51:30.613623Z",
     "start_time": "2018-03-09T10:51:30.609008Z"
    }
   },
   "outputs": [
    {
     "data": {
      "text/plain": [
       "3100"
      ]
     },
     "execution_count": 34,
     "metadata": {},
     "output_type": "execute_result"
    }
   ],
   "source": [
    "len(dataset)"
   ]
  },
  {
   "cell_type": "code",
   "execution_count": 35,
   "metadata": {
    "ExecuteTime": {
     "end_time": "2018-03-09T10:55:47.968238Z",
     "start_time": "2018-03-09T10:55:47.964177Z"
    }
   },
   "outputs": [],
   "source": [
    "def find_fn_count(threshold, winrate_lists):\n",
    "    \"\"\"\n",
    "    threshold: float, below what win rate should the player resign?\n",
    "    winrates: list of lists of floats, win rates of player in several games\n",
    "    \"\"\"\n",
    "    return sum([any([1 - winrate <= threshold for winrate in winrates]) for winrates in winrate_lists])"
   ]
  },
  {
   "cell_type": "code",
   "execution_count": 60,
   "metadata": {
    "ExecuteTime": {
     "end_time": "2018-03-09T10:58:42.916302Z",
     "start_time": "2018-03-09T10:58:42.898067Z"
    }
   },
   "outputs": [
    {
     "data": {
      "text/plain": [
       "5"
      ]
     },
     "execution_count": 60,
     "metadata": {},
     "output_type": "execute_result"
    }
   ],
   "source": [
    "find_fn_count(0.05, dataset)"
   ]
  },
  {
   "cell_type": "code",
   "execution_count": 55,
   "metadata": {
    "ExecuteTime": {
     "end_time": "2018-03-09T10:57:44.713052Z",
     "start_time": "2018-03-09T10:57:44.708921Z"
    }
   },
   "outputs": [
    {
     "data": {
      "text/plain": [
       "3100"
      ]
     },
     "execution_count": 55,
     "metadata": {},
     "output_type": "execute_result"
    }
   ],
   "source": [
    "len(dataset)"
   ]
  },
  {
   "cell_type": "code",
   "execution_count": 64,
   "metadata": {
    "ExecuteTime": {
     "end_time": "2018-03-09T10:59:37.334765Z",
     "start_time": "2018-03-09T10:59:37.315549Z"
    }
   },
   "outputs": [],
   "source": [
    "def compute_threshold(games, max_fn_rate):\n",
    "    #games = get_games_without_res(games)\n",
    "    black = get_winrates_for_games_won_by_player(games, 1)\n",
    "    white = get_winrates_for_games_won_by_player(games, 0)\n",
    "    dataset = black + white\n",
    "\n",
    "    thresholds = np.linspace(0, 0.1, num=1000)\n",
    "        \n",
    "    results = np.array([find_fn_count(threshold, dataset) for threshold in thresholds])\n",
    "    results = results / len(dataset)\n",
    "\n",
    "    \n",
    "    best_i = np.where(results <= max_fn_rate)[0][-1]\n",
    "    return thresholds[best_i]"
   ]
  },
  {
   "cell_type": "code",
   "execution_count": 66,
   "metadata": {
    "ExecuteTime": {
     "end_time": "2018-03-09T11:00:12.393599Z",
     "start_time": "2018-03-09T10:59:56.174643Z"
    }
   },
   "outputs": [
    {
     "name": "stdout",
     "output_type": "stream",
     "text": [
      "0\n"
     ]
    },
    {
     "data": {
      "text/plain": [
       "0.10000000000000001"
      ]
     },
     "execution_count": 66,
     "metadata": {},
     "output_type": "execute_result"
    }
   ],
   "source": [
    "compute_threshold(games, 0.05)"
   ]
  },
  {
   "cell_type": "code",
   "execution_count": null,
   "metadata": {},
   "outputs": [],
   "source": []
  },
  {
   "cell_type": "code",
   "execution_count": null,
   "metadata": {},
   "outputs": [],
   "source": [
    "path_to_schema = \"../../src/capnp/CapnpGame.capnp\"\n",
    "path_to_game_folder = \"/Users/florian/Desktop/games2/\"\n",
    "\n",
    "schema = capnp.load(path_to_schema).Game\n",
    "\n",
    "games = get_games_from_hdf5(path_to_game_folder)\n",
    "compute_threshold(games, 0.05)"
   ]
  },
  {
   "cell_type": "code",
   "execution_count": null,
   "metadata": {},
   "outputs": [],
   "source": []
  },
  {
   "cell_type": "markdown",
   "metadata": {},
   "source": [
    "Wie finde ich raus, wer den letzten Zug gemacht hat?\n",
    "-Anhand der Länge der Spiele. Wenn immer Schwarz beginnt, sind Spiele mit ungerader Länge die, bei denen schwarz den letzen Zug hatte.\n",
    "\n",
    "False negatives minimieren: Situationen, in denen wir aufgegeben haben aber gewonnen hätten. Dabei soll der Threshold maximiert werden -> so früh wie möglich aufhören.\n",
    "Threshold so hoch wie geht, ohne dass False negatives über x% gehen.\n",
    "\n",
    "\n"
   ]
  },
  {
   "cell_type": "code",
   "execution_count": null,
   "metadata": {
    "ExecuteTime": {
     "end_time": "2018-03-09T10:38:47.425290Z",
     "start_time": "2018-03-09T10:38:46.996Z"
    }
   },
   "outputs": [],
   "source": [
    "def calculate_winrate(winrate_lists, player):\n",
    "    \"\"\"Calculates winrates according to the player: player = 1 black, player = 0 white\"\"\"\n",
    "    for winrates in winrates_list:\n",
    "        for i, winrate in enumerate(winrates):\n",
    "            if i % 2 == player:\n",
    "                winrates[i] = 1 - winrate\n",
    "                "
   ]
  },
  {
   "cell_type": "code",
   "execution_count": null,
   "metadata": {
    "ExecuteTime": {
     "end_time": "2018-03-09T10:38:47.427661Z",
     "start_time": "2018-03-09T10:38:46.998Z"
    }
   },
   "outputs": [],
   "source": [
    "def naive_find_fn_count(threshold, winrate_lists):\n",
    "    summe = 0\n",
    "    for winrate_list in winrate_lists:\n",
    "        is_th = 0\n",
    "        for winrate in winrate_list:\n",
    "            if (1 - winrate <= threshold):\n",
    "                is_th = 1\n",
    "        if is_th:\n",
    "            summe += 1\n",
    "    return summe"
   ]
  },
  {
   "cell_type": "code",
   "execution_count": 115,
   "metadata": {
    "ExecuteTime": {
     "end_time": "2018-03-09T10:42:20.868669Z",
     "start_time": "2018-03-09T10:42:20.862237Z"
    }
   },
   "outputs": [],
   "source": [
    "file_list = []\n",
    "for file in os.listdir(path_to_game_folder):\n",
    "    file_list.append(file)"
   ]
  },
  {
   "cell_type": "code",
   "execution_count": 116,
   "metadata": {
    "ExecuteTime": {
     "end_time": "2018-03-09T10:42:21.842348Z",
     "start_time": "2018-03-09T10:42:21.839682Z"
    }
   },
   "outputs": [],
   "source": [
    "path_to_game_folder = \"/Users/florian/Desktop/games/\""
   ]
  },
  {
   "cell_type": "code",
   "execution_count": 117,
   "metadata": {
    "ExecuteTime": {
     "end_time": "2018-03-09T10:42:22.088411Z",
     "start_time": "2018-03-09T10:42:22.081024Z"
    }
   },
   "outputs": [],
   "source": [
    "def read_games(path_to_game_folder, file_list):\n",
    "    games = []\n",
    "    \n",
    "    for file in file_list:\n",
    "        f = open(path_to_game_folder + file, 'rb') \n",
    "        game = schema.read(f)\n",
    "        games.append(game)\n",
    "        \n",
    "    return games"
   ]
  },
  {
   "cell_type": "code",
   "execution_count": null,
   "metadata": {
    "ExecuteTime": {
     "end_time": "2018-03-09T10:42:29.858525Z",
     "start_time": "2018-03-09T10:42:29.833776Z"
    }
   },
   "outputs": [],
   "source": [
    "games = read_games(path_to_game_folder, file_list)"
   ]
  },
  {
   "cell_type": "code",
   "execution_count": null,
   "metadata": {
    "ExecuteTime": {
     "end_time": "2018-03-09T11:00:12.402010Z",
     "start_time": "2018-03-09T11:00:12.395098Z"
    }
   },
   "outputs": [],
   "source": [
    "plt.plot(thresholds, results)"
   ]
  },
  {
   "cell_type": "code",
   "execution_count": null,
   "metadata": {},
   "outputs": [],
   "source": []
  },
  {
   "cell_type": "code",
   "execution_count": null,
   "metadata": {},
   "outputs": [],
   "source": []
  }
 ],
 "metadata": {
  "kernelspec": {
   "display_name": "Python 3",
   "language": "python",
   "name": "python3"
  },
  "language_info": {
   "codemirror_mode": {
    "name": "ipython",
    "version": 3
   },
   "file_extension": ".py",
   "mimetype": "text/x-python",
   "name": "python",
   "nbconvert_exporter": "python",
   "pygments_lexer": "ipython3",
   "version": "3.6.4"
  },
  "toc": {
   "nav_menu": {},
   "number_sections": true,
   "sideBar": true,
   "skip_h1_title": false,
   "toc_cell": false,
   "toc_position": {},
   "toc_section_display": "block",
   "toc_window_display": false
  }
 },
 "nbformat": 4,
 "nbformat_minor": 1
}
