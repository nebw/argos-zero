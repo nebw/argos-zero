{
 "cells": [
  {
   "cell_type": "code",
   "execution_count": 24,
   "metadata": {
    "collapsed": true
   },
   "outputs": [],
   "source": [
    "import capnp\n",
    "import os\n",
    "import numpy as np\n",
    "import matplotlib.pyplot as plt\n",
    "%matplotlib inline"
   ]
  },
  {
   "cell_type": "code",
   "execution_count": 2,
   "metadata": {
    "collapsed": true
   },
   "outputs": [],
   "source": [
    "path_to_schema = \"/home/franziska/Documents/Master/sem1/argos-zero/src/capnp/CapnpGame.capnp\"\n",
    "path_to_game_folder = \"/home/franziska/selfgames/\""
   ]
  },
  {
   "cell_type": "code",
   "execution_count": 3,
   "metadata": {
    "collapsed": true
   },
   "outputs": [],
   "source": [
    "schema = capnp.load(path_to_schema).Game\n"
   ]
  },
  {
   "cell_type": "code",
   "execution_count": 4,
   "metadata": {
    "collapsed": true
   },
   "outputs": [],
   "source": [
    "file_list = []\n",
    "for file in os.listdir(path_to_game_folder):\n",
    "    file_list.append(file)"
   ]
  },
  {
   "cell_type": "code",
   "execution_count": 129,
   "metadata": {
    "collapsed": true
   },
   "outputs": [],
   "source": [
    "def read_games(file_list):\n",
    "    games = []\n",
    "    \n",
    "    for file in file_list:\n",
    "        f = open(path_to_game_folder+file, 'rb') \n",
    "        game = schema.read(f)\n",
    "        games.append(game)\n",
    "        \n",
    "    return games"
   ]
  },
  {
   "cell_type": "code",
   "execution_count": 130,
   "metadata": {
    "collapsed": true
   },
   "outputs": [],
   "source": [
    "games = read_games(file_list)"
   ]
  },
  {
   "cell_type": "code",
   "execution_count": 133,
   "metadata": {
    "collapsed": false
   },
   "outputs": [],
   "source": [
    "# filter games such that we only have games with no resignation\n",
    "def get_games_without_res(games):\n",
    "    games_without_res = []\n",
    "    \n",
    "    for game in games:\n",
    "        if game.noresignmode:\n",
    "            games_without_res.append(game)\n",
    "\n",
    "    return games_without_res"
   ]
  },
  {
   "cell_type": "code",
   "execution_count": 134,
   "metadata": {
    "collapsed": true
   },
   "outputs": [],
   "source": [
    "games_without_res = get_games_without_res(games)"
   ]
  },
  {
   "cell_type": "code",
   "execution_count": 6,
   "metadata": {
    "collapsed": false
   },
   "outputs": [
    {
     "data": {
      "text/plain": [
       "387"
      ]
     },
     "execution_count": 6,
     "metadata": {},
     "output_type": "execute_result"
    }
   ],
   "source": [
    "len(games_without_res)"
   ]
  },
  {
   "cell_type": "code",
   "execution_count": 7,
   "metadata": {
    "collapsed": true
   },
   "outputs": [],
   "source": [
    "def get_winrates_for_game(game):\n",
    "    return [sp.winrate for sp in game.stateprobs]\n",
    "    "
   ]
  },
  {
   "cell_type": "code",
   "execution_count": 8,
   "metadata": {
    "collapsed": true
   },
   "outputs": [],
   "source": [
    "def get_winrates_for_games_won_by_player(winrate_lists, player):\n",
    "    \"\"\"Returns the winrates for only the given player\"\"\"\n",
    "    filtered_winrates_list = []\n",
    "    for winrates in winrate_lists:\n",
    "        filtered_winrates = []\n",
    "        for i, winrate in enumerate(winrates):\n",
    "            if i % 2 == player:\n",
    "                filtered_winrates.append(winrate)\n",
    "        filtered_winrates_list.append(filtered_winrates)\n",
    "    return filtered_winrates_list"
   ]
  },
  {
   "cell_type": "code",
   "execution_count": 9,
   "metadata": {
    "collapsed": true
   },
   "outputs": [],
   "source": [
    "def get_games_won_by_player(games, player):\n",
    "    games_won_by_player = []\n",
    "    for game in games:\n",
    "        if game.result == player:\n",
    "            games_won_by_player.append(game)\n",
    "    return games_won_by_player"
   ]
  },
  {
   "cell_type": "code",
   "execution_count": 10,
   "metadata": {
    "collapsed": true
   },
   "outputs": [],
   "source": [
    "def get_winrates_for_player(games, player):\n",
    "    \"\"\"Get the winrates only for this player in the games won by the player\"\"\"\n",
    "    games_won_by_player = get_games_won_by_player(games, player)\n",
    "    player_winrates = [get_winrates_for_game(game) for game in games_won_by_player]\n",
    "    only_player_winrates = get_winrates_for_games_won_by_player(player_winrates, player)\n",
    "    \n",
    "    return only_player_winrates\n",
    "    "
   ]
  },
  {
   "cell_type": "code",
   "execution_count": 14,
   "metadata": {
    "collapsed": true
   },
   "outputs": [],
   "source": [
    "games_won_by_black = get_games_won_by_player(games_without_res, 1)\n",
    "games_won_by_white = get_games_won_by_player(games_without_res, 0)"
   ]
  },
  {
   "cell_type": "code",
   "execution_count": 15,
   "metadata": {
    "collapsed": false
   },
   "outputs": [],
   "source": [
    "black_winrates = [get_winrates_for_game(game) for game in games_won_by_black]\n",
    "white_winrates = [get_winrates_for_game(game) for game in games_won_by_white]"
   ]
  },
  {
   "cell_type": "code",
   "execution_count": 18,
   "metadata": {
    "collapsed": false
   },
   "outputs": [],
   "source": [
    "only_black_winrates = get_winrates_for_games_won_by_player(black_winrates, 1)\n",
    "only_white_winrates = get_winrates_for_games_won_by_player(white_winrates, 0)"
   ]
  },
  {
   "cell_type": "code",
   "execution_count": 12,
   "metadata": {
    "collapsed": false
   },
   "outputs": [],
   "source": [
    "black = get_winrates_for_player(games_without_res,1)\n",
    "white = get_winrates_for_player(games_without_res,0)\n",
    "\n",
    "dataset = black + white"
   ]
  },
  {
   "cell_type": "code",
   "execution_count": 13,
   "metadata": {
    "collapsed": true
   },
   "outputs": [],
   "source": [
    "def find_fn_count(threshold, winrate_lists):\n",
    "    \"\"\"winrates: list of lists\"\"\"\n",
    "    return sum([any([1 - winrate <= threshold for winrate in winrates]) for winrates in winrate_lists])"
   ]
  },
  {
   "cell_type": "code",
   "execution_count": 56,
   "metadata": {
    "collapsed": false
   },
   "outputs": [
    {
     "data": {
      "text/plain": [
       "49"
      ]
     },
     "execution_count": 56,
     "metadata": {},
     "output_type": "execute_result"
    }
   ],
   "source": [
    "find_fn_count(0.05, dataset)"
   ]
  },
  {
   "cell_type": "code",
   "execution_count": 95,
   "metadata": {
    "collapsed": false
   },
   "outputs": [
    {
     "data": {
      "text/plain": [
       "387"
      ]
     },
     "execution_count": 95,
     "metadata": {},
     "output_type": "execute_result"
    }
   ],
   "source": [
    "len(dataset)"
   ]
  },
  {
   "cell_type": "code",
   "execution_count": 113,
   "metadata": {
    "collapsed": true
   },
   "outputs": [],
   "source": [
    "thresholds = np.linspace(0, 0.1, num=1000)"
   ]
  },
  {
   "cell_type": "code",
   "execution_count": 114,
   "metadata": {
    "collapsed": false,
    "scrolled": true
   },
   "outputs": [],
   "source": [
    "results = np.array([find_fn_count(threshold, dataset) for threshold in thresholds])\n",
    "results = results / len(dataset)"
   ]
  },
  {
   "cell_type": "code",
   "execution_count": 122,
   "metadata": {
    "collapsed": false
   },
   "outputs": [],
   "source": [
    "best_i = np.where(results <= 0.05)[0][-1]"
   ]
  },
  {
   "cell_type": "code",
   "execution_count": 124,
   "metadata": {
    "collapsed": false
   },
   "outputs": [
    {
     "data": {
      "text/plain": [
       "0.0065065065065065065"
      ]
     },
     "execution_count": 124,
     "metadata": {},
     "output_type": "execute_result"
    }
   ],
   "source": [
    "thresholds[best_i]"
   ]
  },
  {
   "cell_type": "code",
   "execution_count": 137,
   "metadata": {
    "collapsed": true
   },
   "outputs": [],
   "source": [
    "def compute_threshold(games, max_fn_rate):\n",
    "    games = get_games_without_res(games)\n",
    "    black = get_winrates_for_player(games_without_res,1)\n",
    "    white = get_winrates_for_player(games_without_res,0)\n",
    "\n",
    "    dataset = black + white\n",
    "\n",
    "    thresholds = np.linspace(0, 0.1, num=1000)\n",
    "    \n",
    "    results = np.array([find_fn_count(threshold, dataset) for threshold in thresholds])\n",
    "    results = results / len(dataset)\n",
    "    \n",
    "    best_i = np.where(results <= max_fn_rate)[0][-1]\n",
    "    return thresholds[best_i]"
   ]
  },
  {
   "cell_type": "code",
   "execution_count": null,
   "metadata": {
    "collapsed": true
   },
   "outputs": [],
   "source": []
  },
  {
   "cell_type": "code",
   "execution_count": 126,
   "metadata": {
    "collapsed": false
   },
   "outputs": [
    {
     "data": {
      "text/plain": [
       "[<matplotlib.lines.Line2D at 0x7fa5df6cefd0>]"
      ]
     },
     "execution_count": 126,
     "metadata": {},
     "output_type": "execute_result"
    },
    {
     "data": {
      "image/png": "[encoded data removed]",
      "text/plain": [
       "<matplotlib.figure.Figure at 0x7fa5df987e48>"
      ]
     },
     "metadata": {},
     "output_type": "display_data"
    }
   ],
   "source": [
    "plt.plot(thresholds, results)"
   ]
  },
  {
   "cell_type": "code",
   "execution_count": null,
   "metadata": {
    "collapsed": true
   },
   "outputs": [],
   "source": []
  },
  {
   "cell_type": "code",
   "execution_count": null,
   "metadata": {
    "collapsed": true
   },
   "outputs": [],
   "source": []
  },
  {
   "cell_type": "code",
   "execution_count": null,
   "metadata": {
    "collapsed": true
   },
   "outputs": [],
   "source": []
  },
  {
   "cell_type": "markdown",
   "metadata": {},
   "source": [
    "Wie finde ich raus, wer den letzten Zug gemacht hat?\n",
    "-Anhand der Länge der Spiele. Wenn immer Schwarz beginnt, sind Spiele mit ungerader Länge die, bei denen schwarz den letzen Zug hatte.\n",
    "\n",
    "False negatives minimieren: Situationen, in denen wir aufgegeben haben aber gewonnen hätten. Dabei soll der Threshold maximiert werden -> so früh wie möglich aufhören.\n",
    "Threshold so hoch wie geht, ohne dass False negatives über x% gehen.\n",
    "\n",
    "\n"
   ]
  },
  {
   "cell_type": "code",
   "execution_count": 11,
   "metadata": {
    "collapsed": false
   },
   "outputs": [],
   "source": [
    "def calculate_winrate(winrate_lists, player):\n",
    "    \"\"\"Calculates winrates according to the player: player = 1 black, player = 0 white\"\"\"\n",
    "    for winrates in winrates_list:\n",
    "        for i, winrate in enumerate(winrates):\n",
    "            if i % 2 == player:\n",
    "                winrates[i] = 1 - winrate\n",
    "                "
   ]
  },
  {
   "cell_type": "code",
   "execution_count": 22,
   "metadata": {
    "collapsed": true
   },
   "outputs": [],
   "source": [
    "def naive_find_fn_count(threshold, winrate_lists):\n",
    "    summe = 0\n",
    "    for winrate_list in winrate_lists:\n",
    "        is_th = 0\n",
    "        for winrate in winrate_list:\n",
    "            if (1 - winrate <= threshold):\n",
    "                is_th = 1\n",
    "        if is_th:\n",
    "            summe += 1\n",
    "    return summe"
   ]
  }
 ],
 "metadata": {
  "kernelspec": {
   "display_name": "Python 3",
   "language": "python",
   "name": "python3"
  },
  "language_info": {
   "codemirror_mode": {
    "name": "ipython",
    "version": 3
   },
   "file_extension": ".py",
   "mimetype": "text/x-python",
   "name": "python",
   "nbconvert_exporter": "python",
   "pygments_lexer": "ipython3",
   "version": "3.5.2"
  }
 },
 "nbformat": 4,
 "nbformat_minor": 1
}
