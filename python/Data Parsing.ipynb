{
 "cells": [
  {
   "cell_type": "code",
   "execution_count": 115,
   "metadata": {
    "ExecuteTime": {
     "end_time": "2018-03-06T13:23:01.690634Z",
     "start_time": "2018-03-06T13:23:01.685367Z"
    },
    "collapsed": true
   },
   "outputs": [],
   "source": [
    "import h5py\n",
    "import json\n",
    "import numpy as np"
   ]
  },
  {
   "cell_type": "code",
   "execution_count": 82,
   "metadata": {
    "ExecuteTime": {
     "end_time": "2018-03-06T10:51:35.849161Z",
     "start_time": "2018-03-06T10:51:35.845485Z"
    }
   },
   "outputs": [],
   "source": [
    "f = h5py.File('/Users/valentinwolf/Documents/Studium/Machine_Learning/SoftwareProjekt/example.h5','r')"
   ]
  },
  {
   "cell_type": "code",
   "execution_count": 146,
   "metadata": {
    "ExecuteTime": {
     "end_time": "2018-03-06T13:29:21.540024Z",
     "start_time": "2018-03-06T13:29:21.461765Z"
    }
   },
   "outputs": [],
   "source": [
    "#Selected games for test set\n",
    "game_ids_t = []\n",
    "inputs_t = []\n",
    "probs_t = []\n",
    "winners_t = []\n",
    "\n",
    "# Selected games for validation set\n",
    "game_ids_v = []\n",
    "inputs_v = []\n",
    "probs_v = []\n",
    "winners_v = []\n",
    "\n",
    "# probability of a specific game is chosen for the validation set\n",
    "val_prob = 0.05 \n",
    "boardsize = 9\n",
    "\n",
    "i = 0\n",
    "for data_string in f['json_game_record']:\n",
    "    if data_string == '':\n",
    "        break\n",
    "    json_data = json.loads(data_string)\n",
    "    id_ = json_data['id']\n",
    "    \n",
    "    if id_ in game_ids_t:\n",
    "        in_val = False\n",
    "    elif id_ in game_ids_v:\n",
    "        in_val = True    \n",
    "    #decide if game will be in validation or train set\n",
    "    elif np.random.sample(1)[0] > val_prob: \n",
    "        game_ids_t.append(id_)\n",
    "        in_val = False\n",
    "    else:\n",
    "        game_ids_v.append(id_)\n",
    "        in_val = True\n",
    "        \n",
    "    if in_val:\n",
    "        inputs, probs, winners = inputs_v, probs_v, winners_v\n",
    "    else:\n",
    "        inputs, probs, winners = inputs_t, probs_t, winners_t\n",
    "\n",
    "    inputs.append(np.array(json_data['stateprobs']['state']).reshape(12,boardsize,boardsize))\n",
    "    winners.append(int(json_data['result']))\n",
    "    probs.append(np.array(jsondatap['stateprobs']['probs']))"
   ]
  }
 ],
 "metadata": {
  "kernelspec": {
   "display_name": "SWP35",
   "language": "python",
   "name": "swp35"
  },
  "language_info": {
   "codemirror_mode": {
    "name": "ipython",
    "version": 3
   },
   "file_extension": ".py",
   "mimetype": "text/x-python",
   "name": "python",
   "nbconvert_exporter": "python",
   "pygments_lexer": "ipython3",
   "version": "3.5.0"
  },
  "toc": {
   "nav_menu": {},
   "number_sections": true,
   "sideBar": true,
   "skip_h1_title": false,
   "toc_cell": false,
   "toc_position": {},
   "toc_section_display": "block",
   "toc_window_display": false
  }
 },
 "nbformat": 4,
 "nbformat_minor": 2
}
