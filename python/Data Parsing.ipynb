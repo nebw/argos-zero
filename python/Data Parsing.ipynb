{
 "cells": [
  {
   "cell_type": "code",
   "execution_count": 477,
   "metadata": {
    "ExecuteTime": {
     "end_time": "2018-03-08T20:37:53.066145Z",
     "start_time": "2018-03-08T20:37:53.060260Z"
    },
    "collapsed": true
   },
   "outputs": [],
   "source": [
    "import h5py\n",
    "import numpy as np\n",
    "import capnp\n",
    "import sys\n",
    "import os.path\n",
    "import glob\n",
    "sys.path.append('/Users/valentinwolf/Documents/Studium/Machine_Learning/SoftwareProjekt')\n",
    "\n",
    "import CapnpGame_capnp"
   ]
  },
  {
   "cell_type": "code",
   "execution_count": 478,
   "metadata": {
    "ExecuteTime": {
     "end_time": "2018-03-08T20:37:53.470862Z",
     "start_time": "2018-03-08T20:37:53.466289Z"
    },
    "collapsed": true
   },
   "outputs": [],
   "source": [
    "raw_data_folder = '/Users/valentinwolf/Documents/Studium/Machine_Learning/SoftwareProjekt/raw_data/*'\n",
    "train_val_path = '/Users/valentinwolf/Documents/Studium/Machine_Learning/SoftwareProjekt/train_val.h5'\n",
    "\n",
    "# probability of a specific game is chosen for the validation set\n",
    "val_prob = 0.05 \n",
    "boardsize = 9\n",
    "\n",
    "# states the dataset can hold, changes only if file at train_val_path does not exist\n",
    "samples = 25000"
   ]
  },
  {
   "cell_type": "code",
   "execution_count": 479,
   "metadata": {
    "ExecuteTime": {
     "end_time": "2018-03-08T20:37:55.676474Z",
     "start_time": "2018-03-08T20:37:55.651419Z"
    },
    "collapsed": true
   },
   "outputs": [],
   "source": [
    "try: # open if dataset already exists\n",
    "    dataset = h5py.File(train_val_path, 'r+', libver='latest')\n",
    "    train_x = dataset['train_x']\n",
    "    train_y = dataset['train_y']\n",
    "    val_x = dataset['val_x']\n",
    "    val_y = dataset['val_y']\n",
    "except OSError:\n",
    "    # create file for dataset\n",
    "    dataset = h5py.File(train_val_path, 'w', libver='latest')\n",
    "    \n",
    "    #dataset.swmr_mode = True # not sure if we want that\n",
    "    train_x = dataset.create_dataset(\"train_x\", shape=(int(samples*(1-val_prob)),12,boardsize,boardsize), dtype='int8')\n",
    "    train_y = dataset.create_dataset(\"train_y\", shape=(int(samples*(1-val_prob)),83))\n",
    "    val_x = dataset.create_dataset(\"val_x\", shape=(int(samples*val_prob),12,boardsize,boardsize), dtype='int8')\n",
    "    val_y = dataset.create_dataset(\"val_y\", shape=(int(samples*val_prob),83))\n",
    "    \n",
    "    ## save where to (over-)write next in dataset\n",
    "    #train_x.attrs.create(\"next_i_to_overwrite\",0)\n",
    "    #val_x.attrs.create(\"next_i_to_overwrite\",0)\n",
    "    #\n",
    "    ## save the newest file that was read from \n",
    "    #dataset.attrs.create(\"latest_id_read\", b\"dummy\")\n"
   ]
  },
  {
   "cell_type": "code",
   "execution_count": 490,
   "metadata": {
    "ExecuteTime": {
     "end_time": "2018-03-08T20:44:53.428955Z",
     "start_time": "2018-03-08T20:44:53.296722Z"
    }
   },
   "outputs": [],
   "source": [
    "def write_in_dataset(force_full_write=False):\n",
    "    \"\"\"\n",
    "    TODO: make code nice and readable\n",
    "    TODO: writing should stop once we see the first entry was already written \n",
    "    at some other time / only write new entries\n",
    "    force_full_write = True will make sure that there will be no empty entries \n",
    "    in the dataset by duplicates some datapoints\n",
    "    total_written = states written in [train_set,val_set]\n",
    "    \"\"\"\n",
    "    paths = glob.glob(raw_data_folder)\n",
    "    paths.reverse()\n",
    "    print(paths)\n",
    "    \n",
    "    total_written=[0,0]\n",
    "    \n",
    "    \n",
    "    #latest_id_read = dataset.attrs[\"latest_id_read\"]\n",
    "    #\n",
    "    #f = h5py.File(paths[0],'r')\n",
    "    #game_msg = f['game_record'][f['game_record'].attrs['count_id']-1].tostring()\n",
    "    #g = CapnpGame_capnp.Game.from_bytes(game_msg)\n",
    "    #dataset.attrs[\"latest_id_read\"] = g.id\n",
    "    #f.close()\n",
    "    while True:\n",
    "        for raw_data_path in paths:\n",
    "            #print(raw_data_path)\n",
    "            raw_data = h5py.File(raw_data_path,'r')\n",
    "            for i in range(raw_data['game_record'].attrs['count_id']-1,-1,-1):\n",
    "                #print(i)\n",
    "                game_msg = raw_data['game_record'][i].tostring()\n",
    "                g = CapnpGame_capnp.Game.from_bytes(game_msg)\n",
    "                #print(g.id)\n",
    "                #if g.id == latest_id_read:\n",
    "                #    # found the first entry that is already in the dataset\n",
    "                #    raw_data.close()\n",
    "                #    return\n",
    "\n",
    "                if np.random.sample(1)[0] > val_prob and total_written[0] < train_x.shape[0]:\n",
    "                    dest_x, dest_y, j = train_x, train_y, 0\n",
    "                elif total_written[1] < val_x.shape[0]:\n",
    "                    dest_x, dest_y, j = val_x, val_y, 1\n",
    "                else:\n",
    "                    raw_data.close()\n",
    "                    return\n",
    "\n",
    "                for i in range(len(g.stateprobs)):\n",
    "                    # copy all states (if there is space) from the game\n",
    "                    if total_written[j] > dest_x.shape[0]-1:\n",
    "                        print(\"total_written exeeded dest.shape\")\n",
    "                        break\n",
    "                    offset = total_written[j]\n",
    "                    #offset = dest_x.attrs[\"next_i_to_overwrite\"]\n",
    "                    dest_x[offset] = np.array(g.stateprobs[i].state).reshape((12 , boardsize, boardsize))\n",
    "\n",
    "                    probs = np.array(g.stateprobs[i].probs)\n",
    "                    winner = np.asarray([int(g.result)])\n",
    "\n",
    "                    y = np.concatenate((probs.flatten(), winner), axis=0)\n",
    "\n",
    "                    dest_y[offset] = y.reshape((1,83))\n",
    "\n",
    "                    #dest_x.attrs.modify(\"next_i_to_overwrite\",(offset+1)%dest_x.shape[0])\n",
    "\n",
    "                    total_written[j] += 1\n",
    "\n",
    "\n",
    "                # save to disk after every iteration(?)\n",
    "                dataset.flush()\n",
    "            raw_data.close()\n",
    "\n",
    "        if not force_full_write:\n",
    "            break\n",
    "        \n",
    "    return\n",
    "    "
   ]
  },
  {
   "cell_type": "code",
   "execution_count": 491,
   "metadata": {
    "ExecuteTime": {
     "end_time": "2018-03-08T20:45:06.389076Z",
     "start_time": "2018-03-08T20:44:53.965230Z"
    },
    "scrolled": true
   },
   "outputs": [
    {
     "name": "stdout",
     "output_type": "stream",
     "text": [
      "['/Users/valentinwolf/Documents/Studium/Machine_Learning/SoftwareProjekt/raw_data/game_record-0002.h5', '/Users/valentinwolf/Documents/Studium/Machine_Learning/SoftwareProjekt/raw_data/game_record-0001.h5']\n",
      "total_written exeeded dest.shape\n"
     ]
    }
   ],
   "source": [
    "write_in_dataset(force_full_write=True)"
   ]
  },
  {
   "cell_type": "code",
   "execution_count": 460,
   "metadata": {
    "ExecuteTime": {
     "end_time": "2018-03-08T20:01:35.879725Z",
     "start_time": "2018-03-08T20:01:35.873112Z"
    }
   },
   "outputs": [
    {
     "data": {
      "text/plain": [
       "['game_record']"
      ]
     },
     "execution_count": 460,
     "metadata": {},
     "output_type": "execute_result"
    }
   ],
   "source": [
    "list(raw_data.keys())"
   ]
  }
 ],
 "metadata": {
  "kernelspec": {
   "display_name": "SWP35",
   "language": "python",
   "name": "swp35"
  },
  "language_info": {
   "codemirror_mode": {
    "name": "ipython",
    "version": 3
   },
   "file_extension": ".py",
   "mimetype": "text/x-python",
   "name": "python",
   "nbconvert_exporter": "python",
   "pygments_lexer": "ipython3",
   "version": "3.5.0"
  },
  "toc": {
   "nav_menu": {},
   "number_sections": true,
   "sideBar": true,
   "skip_h1_title": false,
   "toc_cell": false,
   "toc_position": {},
   "toc_section_display": "block",
   "toc_window_display": false
  }
 },
 "nbformat": 4,
 "nbformat_minor": 2
}
