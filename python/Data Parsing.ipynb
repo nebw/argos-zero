{
 "cells": [
  {
   "cell_type": "code",
   "execution_count": 289,
   "metadata": {
    "ExecuteTime": {
     "end_time": "2018-03-07T13:33:10.048298Z",
     "start_time": "2018-03-07T13:33:10.043434Z"
    }
   },
   "outputs": [],
   "source": [
    "import h5py\n",
    "import numpy as np\n",
    "import capnp\n",
    "import sys\n",
    "import os.path\n",
    "import glob\n",
    "sys.path.append('/Users/valentinwolf/Documents/Studium/Machine_Learning/SoftwareProjekt')\n",
    "\n",
    "import CapnpGame_capnp"
   ]
  },
  {
   "cell_type": "code",
   "execution_count": 290,
   "metadata": {
    "ExecuteTime": {
     "end_time": "2018-03-07T13:33:10.897647Z",
     "start_time": "2018-03-07T13:33:10.892035Z"
    },
    "collapsed": true
   },
   "outputs": [],
   "source": [
    "raw_data_folder = '/Users/valentinwolf/Documents/Studium/Machine_Learning/SoftwareProjekt/raw_data/*'\n",
    "train_val_path = '/Users/valentinwolf/Documents/Studium/Machine_Learning/SoftwareProjekt/train_val.h5'\n",
    "\n",
    "# probability of a specific game is chosen for the validation set\n",
    "val_prob = 0.05 \n",
    "boardsize = 9\n",
    "\n",
    "# states the dataset can hold, changes only if file at train_val_path does not exist\n",
    "samples = 25000"
   ]
  },
  {
   "cell_type": "code",
   "execution_count": 291,
   "metadata": {
    "ExecuteTime": {
     "end_time": "2018-03-07T13:33:12.228667Z",
     "start_time": "2018-03-07T13:33:12.212215Z"
    }
   },
   "outputs": [],
   "source": [
    "try: # open if dataset already exists\n",
    "    dataset = h5py.File(train_val_path, 'r+', libver='latest')\n",
    "except OSError:\n",
    "    # create file for dataset\n",
    "    dataset = h5py.File(train_val_path, 'w', libver='latest')\n",
    "    \n",
    "    #dataset.swmr_mode = True # not sure if we want that\n",
    "    train_x = dataset.create_dataset(\"train_x\", shape=(int(samples*(1-val_prob)),12,boardsize,boardsize), dtype='int8')\n",
    "    train_y = dataset.create_dataset(\"train_y\", shape=(int(samples*(1-val_prob)),83))\n",
    "    val_x = dataset.create_dataset(\"val_x\", shape=(int(samples*val_prob),12,boardsize,boardsize), dtype='int8')\n",
    "    val_y = dataset.create_dataset(\"val_y\", shape=(int(samples*val_prob),83))\n",
    "    \n",
    "    # save where to (over-)write next in dataset\n",
    "    train_x.attrs.create(\"next_i_to_overwrite\",0)\n",
    "    val_x.attrs.create(\"next_i_to_overwrite\",0)"
   ]
  },
  {
   "cell_type": "code",
   "execution_count": 292,
   "metadata": {
    "ExecuteTime": {
     "end_time": "2018-03-07T13:33:24.709240Z",
     "start_time": "2018-03-07T13:33:24.644448Z"
    }
   },
   "outputs": [],
   "source": [
    "def write_in_dataset(force_full_write=False,total_written=[0,0]):\n",
    "    \"\"\"\n",
    "    TODO: make code nice and readable\n",
    "    TODO: writing should stop once we see the first entry was already written \n",
    "    at some other time / only write new entries\n",
    "    force_full_write = True will make sure that there will be no empty entries \n",
    "    in the dataset by duplicates some datapoints\n",
    "    total_written = states written in [train_set,val_set]\n",
    "    \"\"\"\n",
    "    paths = glob.glob(raw_data_folder)\n",
    "    paths.reverse()\n",
    "\n",
    "    for raw_data_path in paths:\n",
    "        raw_data = h5py.File(raw_data_path,'r')\n",
    "        for file in raw_data['game_record']:\n",
    "            game_msg = file.tostring()\n",
    "            g = CapnpGame_capnp.Game.from_bytes(game_msg)\n",
    "            \n",
    "            if np.random.sample(1)[0] > val_prob and total_written[0] < train_x.shape[0]:\n",
    "                dest_x, dest_y, j = train_x, train_y, 0\n",
    "            elif total_written[1] < val_x.shape[0]:\n",
    "                dest_x, dest_y, j = val_x, val_y, 1\n",
    "            else:\n",
    "                raw_data.close()\n",
    "                return\n",
    "                \n",
    "            for i in range(len(g.stateprobs)):\n",
    "                offset = dest_x.attrs[\"next_i_to_overwrite\"]\n",
    "                dest_x[offset] = np.array(g.stateprobs[i].state).reshape((12 , boardsize, boardsize))\n",
    "\n",
    "                probs = np.array(g.stateprobs[i].probs)\n",
    "                winner = np.asarray([int(g.result)])\n",
    "\n",
    "                y = np.concatenate((probs.flatten(), winner), axis=0)\n",
    "\n",
    "                dest_y[offset] = y.reshape((1,83))\n",
    "\n",
    "                dest_x.attrs.modify(\"next_i_to_overwrite\",(offset+1)%dest_x.shape[0])\n",
    "\n",
    "                total_written[j] += 1\n",
    "                if total_written[j] > dest_x.shape[0]:\n",
    "                    break\n",
    "                \n",
    "            # save to disk after every iteration(?)\n",
    "            dataset.flush()\n",
    "        raw_data.close()\n",
    "        if force_full_write:\n",
    "            write_in_dataset(force_full_write=True,total_written)\n",
    "    return\n",
    "    "
   ]
  }
 ],
 "metadata": {
  "kernelspec": {
   "display_name": "SWP35",
   "language": "python",
   "name": "swp35"
  },
  "language_info": {
   "codemirror_mode": {
    "name": "ipython",
    "version": 3
   },
   "file_extension": ".py",
   "mimetype": "text/x-python",
   "name": "python",
   "nbconvert_exporter": "python",
   "pygments_lexer": "ipython3",
   "version": "3.5.0"
  },
  "toc": {
   "nav_menu": {},
   "number_sections": true,
   "sideBar": true,
   "skip_h1_title": false,
   "toc_cell": false,
   "toc_position": {},
   "toc_section_display": "block",
   "toc_window_display": false
  }
 },
 "nbformat": 4,
 "nbformat_minor": 2
}
