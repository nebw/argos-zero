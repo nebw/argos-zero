{
 "cells": [
  {
   "cell_type": "code",
   "execution_count": 187,
   "metadata": {
    "ExecuteTime": {
     "end_time": "2018-03-07T10:34:20.748728Z",
     "start_time": "2018-03-07T10:34:20.743803Z"
    }
   },
   "outputs": [],
   "source": [
    "import h5py\n",
    "import numpy as np\n",
    "import capnp\n",
    "import sys\n",
    "sys.path.append('/Users/valentinwolf/Documents/Studium/Machine_Learning/SoftwareProjekt')\n",
    "\n",
    "import CapnpGame_capnp\n"
   ]
  },
  {
   "cell_type": "code",
   "execution_count": 188,
   "metadata": {
    "ExecuteTime": {
     "end_time": "2018-03-07T10:34:22.546222Z",
     "start_time": "2018-03-07T10:34:22.543119Z"
    }
   },
   "outputs": [],
   "source": [
    "raw_data = h5py.File('/Users/valentinwolf/Documents/Studium/Machine_Learning/SoftwareProjekt/example.h5','r')\n"
   ]
  },
  {
   "cell_type": "code",
   "execution_count": 232,
   "metadata": {
    "ExecuteTime": {
     "end_time": "2018-03-07T10:55:39.670361Z",
     "start_time": "2018-03-07T10:55:39.657326Z"
    }
   },
   "outputs": [],
   "source": [
    "val_prob = 0.05 \n",
    "\n",
    "# create file for dataset\n",
    "dataset = h5py.File('/Users/valentinwolf/Documents/Studium/Machine_Learning/SoftwareProjekt/train_val.h5', 'w', libver='latest')\n",
    "samples = 25000\n",
    "\n",
    "dataset.swmr_mode = True\n",
    "train_x = dataset.create_dataset(\"train_x\", shape=(int(samples*(1-val_prob)),12,9,9), dtype='int8')\n",
    "train_y = dataset.create_dataset(\"train_y\", shape=(int(samples*(1-val_prob)),83))\n",
    "val_x = dataset.create_dataset(\"val_x\", shape=(int(samples*val_prob),12,9,9), dtype='int8')\n",
    "val_y = dataset.create_dataset(\"val_y\", shape=(int(samples*val_prob),83))\n",
    "\n",
    "val_x.attrs.create(\"next_i_to_overwrite\",0)\n",
    "train_x.attrs.create(\"next_i_to_overwrite\",0)"
   ]
  },
  {
   "cell_type": "code",
   "execution_count": 201,
   "metadata": {
    "ExecuteTime": {
     "end_time": "2018-03-07T10:41:59.959022Z",
     "start_time": "2018-03-07T10:41:59.954957Z"
    }
   },
   "outputs": [
    {
     "data": {
      "text/plain": [
       "25"
      ]
     },
     "execution_count": 201,
     "metadata": {},
     "output_type": "execute_result"
    }
   ],
   "source": [
    "val_x.shape[0]"
   ]
  },
  {
   "cell_type": "code",
   "execution_count": 240,
   "metadata": {
    "ExecuteTime": {
     "end_time": "2018-03-07T11:02:19.630655Z",
     "start_time": "2018-03-07T11:01:51.737768Z"
    }
   },
   "outputs": [],
   "source": [
    "# probability of a specific game is chosen for the validation set\n",
    "game_ids_dict = {}\n",
    "boardsize = 9\n",
    "\n",
    "for file in raw_data['game_record']:\n",
    "    game_msg = file.tostring()\n",
    "    g = CapnpGame_capnp.Game.from_bytes(game_msg)\n",
    "    \n",
    "    if np.random.sample(1)[0] > val_prob:\n",
    "        dest_x, dest_y = train_x, train_y\n",
    "    else:\n",
    "        dest_x, dest_y = val_x, val_y\n",
    "        \n",
    "    for i in range(len(g.stateprobs)):\n",
    "        offset = dest_x.attrs[\"next_i_to_overwrite\"]\n",
    "        dest_x[offset] = np.array(g.stateprobs[i].state).reshape((4 + 8 , 9, 9))\n",
    "        \n",
    "        probs = np.array(g.stateprobs[i].probs)\n",
    "        winner = np.asarray([int(g.result)])\n",
    "\n",
    "        y = np.concatenate((probs.flatten(), winner), axis=0)\n",
    "\n",
    "        dest_y[offset] = y.reshape((1,83))\n",
    "        \n",
    "        dest_x.attrs.modify(\"next_i_to_overwrite\",(offset+1)%dest_x.shape[0])\n",
    "        "
   ]
  },
  {
   "cell_type": "code",
   "execution_count": 242,
   "metadata": {
    "ExecuteTime": {
     "end_time": "2018-03-07T11:02:31.219012Z",
     "start_time": "2018-03-07T11:02:31.214881Z"
    }
   },
   "outputs": [
    {
     "data": {
      "text/plain": [
       "1522"
      ]
     },
     "execution_count": 242,
     "metadata": {},
     "output_type": "execute_result"
    }
   ],
   "source": [
    "train_x.attrs[\"next_i_to_overwrite\"]"
   ]
  }
 ],
 "metadata": {
  "kernelspec": {
   "display_name": "SWP35",
   "language": "python",
   "name": "swp35"
  },
  "language_info": {
   "codemirror_mode": {
    "name": "ipython",
    "version": 3
   },
   "file_extension": ".py",
   "mimetype": "text/x-python",
   "name": "python",
   "nbconvert_exporter": "python",
   "pygments_lexer": "ipython3",
   "version": "3.5.0"
  },
  "toc": {
   "nav_menu": {},
   "number_sections": true,
   "sideBar": true,
   "skip_h1_title": false,
   "toc_cell": false,
   "toc_position": {},
   "toc_section_display": "block",
   "toc_window_display": false
  }
 },
 "nbformat": 4,
 "nbformat_minor": 2
}
