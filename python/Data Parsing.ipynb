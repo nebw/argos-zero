{
 "cells": [
  {
   "cell_type": "code",
   "execution_count": 403,
   "metadata": {
    "ExecuteTime": {
     "end_time": "2018-03-08T12:52:32.254448Z",
     "start_time": "2018-03-08T12:52:32.249091Z"
    },
    "collapsed": true
   },
   "outputs": [],
   "source": [
    "import h5py\n",
    "import numpy as np\n",
    "import capnp\n",
    "import sys\n",
    "import os.path\n",
    "import glob\n",
    "sys.path.append('/Users/valentinwolf/Documents/Studium/Machine_Learning/SoftwareProjekt')\n",
    "\n",
    "import CapnpGame_capnp"
   ]
  },
  {
   "cell_type": "code",
   "execution_count": 404,
   "metadata": {
    "ExecuteTime": {
     "end_time": "2018-03-08T12:52:32.645522Z",
     "start_time": "2018-03-08T12:52:32.640042Z"
    },
    "collapsed": true
   },
   "outputs": [],
   "source": [
    "raw_data_folder = '/Users/valentinwolf/Documents/Studium/Machine_Learning/SoftwareProjekt/raw_data/*'\n",
    "train_val_path = '/Users/valentinwolf/Documents/Studium/Machine_Learning/SoftwareProjekt/train_val.h5'\n",
    "\n",
    "# probability of a specific game is chosen for the validation set\n",
    "val_prob = 0.05 \n",
    "boardsize = 9\n",
    "\n",
    "# states the dataset can hold, changes only if file at train_val_path does not exist\n",
    "samples = 25000"
   ]
  },
  {
   "cell_type": "code",
   "execution_count": 405,
   "metadata": {
    "ExecuteTime": {
     "end_time": "2018-03-08T12:52:33.141965Z",
     "start_time": "2018-03-08T12:52:33.120211Z"
    },
    "collapsed": true
   },
   "outputs": [],
   "source": [
    "try: # open if dataset already exists\n",
    "    dataset = h5py.File(train_val_path, 'r+', libver='latest')\n",
    "    train_x = dataset['train_x']\n",
    "    train_y = dataset['train_y']\n",
    "    val_x = dataset['val_x']\n",
    "    val_y = dataset['val_y']\n",
    "except OSError:\n",
    "    # create file for dataset\n",
    "    dataset = h5py.File(train_val_path, 'w', libver='latest')\n",
    "    \n",
    "    #dataset.swmr_mode = True # not sure if we want that\n",
    "    train_x = dataset.create_dataset(\"train_x\", shape=(int(samples*(1-val_prob)),12,boardsize,boardsize), dtype='int8')\n",
    "    train_y = dataset.create_dataset(\"train_y\", shape=(int(samples*(1-val_prob)),83))\n",
    "    val_x = dataset.create_dataset(\"val_x\", shape=(int(samples*val_prob),12,boardsize,boardsize), dtype='int8')\n",
    "    val_y = dataset.create_dataset(\"val_y\", shape=(int(samples*val_prob),83))\n",
    "    \n",
    "    # save where to (over-)write next in dataset\n",
    "    train_x.attrs.create(\"next_i_to_overwrite\",0)\n",
    "    val_x.attrs.create(\"next_i_to_overwrite\",0)\n",
    "    \n",
    "    # save the newest file that was read from \n",
    "    dataset.attrs.create(\"latest_p_read\", b\"dummy\")\n",
    "    # save the index of newest entry that was copied \n",
    "    dataset.attrs.create(\"latest_i_read\", 0)"
   ]
  },
  {
   "cell_type": "code",
   "execution_count": 406,
   "metadata": {
    "ExecuteTime": {
     "end_time": "2018-03-08T12:52:33.904401Z",
     "start_time": "2018-03-08T12:52:33.799416Z"
    }
   },
   "outputs": [],
   "source": [
    "def write_in_dataset(force_full_write=False,total_written=[0,0]):\n",
    "    \"\"\"\n",
    "    TODO: make code nice and readable\n",
    "    TODO: writing should stop once we see the first entry was already written \n",
    "    at some other time / only write new entries\n",
    "    force_full_write = True will make sure that there will be no empty entries \n",
    "    in the dataset by duplicates some datapoints\n",
    "    total_written = states written in [train_set,val_set]\n",
    "    \"\"\"\n",
    "    paths = glob.glob(raw_data_folder)\n",
    "    paths.reverse()\n",
    "    print(paths)\n",
    "    dataset.attrs[\"latest_p_read\"] = paths[0]\n",
    "    f = h5py.File(paths[0],'r')\n",
    "    dataset.attrs[\"latest_i_read\"] = f['game_record'].attrs['count_id']-1\n",
    "    f.close()\n",
    "    for raw_data_path in paths:\n",
    "        print(raw_data_path)\n",
    "        raw_data = h5py.File(raw_data_path,'r')\n",
    "        for i in range(raw_data['game_record'].attrs['count_id']-1,-1,-1):\n",
    "            if i == dataset.attrs[\"latest_i_read\"] and raw_data_path == dataset.attrs[\"latest_p_read\"]: #.decode(\"utf-8\"):\n",
    "                # found the first entry that is already in the dataset\n",
    "                raw_data.close()\n",
    "                return\n",
    "            print(i)\n",
    "            #print(raw_data['game_record'][i].tostring())\n",
    "            game_msg = raw_data['game_record'][i].tostring()\n",
    "            #print(game_msg)\n",
    "            g = CapnpGame_capnp.Game.from_bytes(game_msg)\n",
    "            \n",
    "            if np.random.sample(1)[0] > val_prob and total_written[0] < train_x.shape[0]:\n",
    "                dest_x, dest_y, j = train_x, train_y, 0\n",
    "            elif total_written[1] < val_x.shape[0]:\n",
    "                dest_x, dest_y, j = val_x, val_y, 1\n",
    "            else:\n",
    "                raw_data.close()\n",
    "                return\n",
    "                \n",
    "            for i in range(len(g.stateprobs)):\n",
    "                # copy all states (if there is space) from the game\n",
    "                offset = dest_x.attrs[\"next_i_to_overwrite\"]\n",
    "                dest_x[offset] = np.array(g.stateprobs[i].state).reshape((12 , boardsize, boardsize))\n",
    "\n",
    "                probs = np.array(g.stateprobs[i].probs)\n",
    "                winner = np.asarray([int(g.result)])\n",
    "\n",
    "                y = np.concatenate((probs.flatten(), winner), axis=0)\n",
    "\n",
    "                dest_y[offset] = y.reshape((1,83))\n",
    "\n",
    "                dest_x.attrs.modify(\"next_i_to_overwrite\",(offset+1)%dest_x.shape[0])\n",
    "\n",
    "                total_written[j] += 1\n",
    "                if total_written[j] > dest_x.shape[0]:\n",
    "                    print(\"total_written exeeded dest.shape\")\n",
    "                    break\n",
    "                \n",
    "            # save to disk after every iteration(?)\n",
    "            dataset.flush()\n",
    "        raw_data.close()\n",
    "    if force_full_write:\n",
    "        write_in_dataset(force_full_write=True,total_written=total_written)\n",
    "    return\n",
    "    "
   ]
  },
  {
   "cell_type": "code",
   "execution_count": 407,
   "metadata": {
    "ExecuteTime": {
     "end_time": "2018-03-08T12:52:35.093291Z",
     "start_time": "2018-03-08T12:52:35.041490Z"
    },
    "scrolled": true
   },
   "outputs": [
    {
     "name": "stdout",
     "output_type": "stream",
     "text": [
      "['/Users/valentinwolf/Documents/Studium/Machine_Learning/SoftwareProjekt/raw_data/game_record-0002.h5', '/Users/valentinwolf/Documents/Studium/Machine_Learning/SoftwareProjekt/raw_data/game_record-0001.h5']\n",
      "/Users/valentinwolf/Documents/Studium/Machine_Learning/SoftwareProjekt/raw_data/game_record-0002.h5\n",
      "1\n",
      "0\n",
      "/Users/valentinwolf/Documents/Studium/Machine_Learning/SoftwareProjekt/raw_data/game_record-0001.h5\n",
      "1\n",
      "0\n"
     ]
    }
   ],
   "source": [
    "write_in_dataset(force_full_write=False)"
   ]
  },
  {
   "cell_type": "code",
   "execution_count": 300,
   "metadata": {
    "ExecuteTime": {
     "end_time": "2018-03-08T09:21:21.554781Z",
     "start_time": "2018-03-08T09:21:21.547960Z"
    }
   },
   "outputs": [
    {
     "data": {
      "text/plain": [
       "['game_record']"
      ]
     },
     "execution_count": 300,
     "metadata": {},
     "output_type": "execute_result"
    }
   ],
   "source": [
    "list(raw_data.keys())"
   ]
  },
  {
   "cell_type": "code",
   "execution_count": 315,
   "metadata": {
    "ExecuteTime": {
     "end_time": "2018-03-08T09:26:00.272980Z",
     "start_time": "2018-03-08T09:26:00.261328Z"
    }
   },
   "outputs": [
    {
     "name": "stdout",
     "output_type": "stream",
     "text": [
      "[6 0 0 ..., 0 0 0]\n",
      "[0 0 0 ..., 0 0 0]\n",
      "[3 0 0 ..., 0 0 0]\n",
      "[4 0 0 ..., 0 0 0]\n",
      "[3 0 0 ..., 0 0 0]\n",
      "[3 0 0 ..., 0 0 0]\n"
     ]
    }
   ],
   "source": [
    "raw_data.close\n",
    "paths = glob.glob(raw_data_folder)\n",
    "paths.reverse()\n",
    "\n",
    "for raw_data_path in paths:\n",
    "    raw_data = h5py.File(raw_data_path,'r')\n",
    "    for file in raw_data['game_record']:\n",
    "        print(file)"
   ]
  },
  {
   "cell_type": "code",
   "execution_count": 349,
   "metadata": {
    "ExecuteTime": {
     "end_time": "2018-03-08T09:38:09.558294Z",
     "start_time": "2018-03-08T09:38:09.554151Z"
    }
   },
   "outputs": [
    {
     "data": {
      "text/plain": [
       "['game_record']"
      ]
     },
     "execution_count": 349,
     "metadata": {},
     "output_type": "execute_result"
    }
   ],
   "source": [
    "list(raw_data.keys())"
   ]
  },
  {
   "cell_type": "code",
   "execution_count": 352,
   "metadata": {
    "ExecuteTime": {
     "end_time": "2018-03-08T09:39:09.710345Z",
     "start_time": "2018-03-08T09:39:09.705573Z"
    }
   },
   "outputs": [
    {
     "data": {
      "text/plain": [
       "2"
      ]
     },
     "execution_count": 352,
     "metadata": {},
     "output_type": "execute_result"
    }
   ],
   "source": [
    "raw_data['game_record'].attrs['count_id']"
   ]
  },
  {
   "cell_type": "code",
   "execution_count": 379,
   "metadata": {
    "ExecuteTime": {
     "end_time": "2018-03-08T09:49:00.872043Z",
     "start_time": "2018-03-08T09:49:00.868096Z"
    }
   },
   "outputs": [
    {
     "data": {
      "text/plain": [
       "<Closed HDF5 dataset>"
      ]
     },
     "execution_count": 379,
     "metadata": {},
     "output_type": "execute_result"
    }
   ],
   "source": [
    "train_x"
   ]
  },
  {
   "cell_type": "code",
   "execution_count": 378,
   "metadata": {
    "ExecuteTime": {
     "end_time": "2018-03-08T09:48:57.879530Z",
     "start_time": "2018-03-08T09:48:57.876159Z"
    },
    "collapsed": true
   },
   "outputs": [],
   "source": [
    "dataset = h5py.File(train_val_path, 'r+', libver='latest')"
   ]
  },
  {
   "cell_type": "code",
   "execution_count": 393,
   "metadata": {
    "ExecuteTime": {
     "end_time": "2018-03-08T09:54:38.733459Z",
     "start_time": "2018-03-08T09:54:38.728827Z"
    }
   },
   "outputs": [
    {
     "name": "stdout",
     "output_type": "stream",
     "text": [
      "['/Users/valentinwolf/Documents/Studium/Machine_Learning/SoftwareProjekt/raw_data/game_record-0002.h5', '/Users/valentinwolf/Documents/Studium/Machine_Learning/SoftwareProjekt/raw_data/game_record-0001.h5']\n",
      "/Users/valentinwolf/Documents/Studium/Machine_Learning/SoftwareProjekt/raw_data/game_record-0002.h5\n",
      "/Users/valentinwolf/Documents/Studium/Machine_Learning/SoftwareProjekt/raw_data/game_record-0001.h5\n"
     ]
    }
   ],
   "source": [
    "paths = glob.glob(raw_data_folder)\n",
    "paths.reverse()\n",
    "print(paths)\n",
    "for raw_data_path in paths:\n",
    "    print(raw_data_path)"
   ]
  },
  {
   "cell_type": "code",
   "execution_count": 397,
   "metadata": {
    "ExecuteTime": {
     "end_time": "2018-03-08T10:03:36.613575Z",
     "start_time": "2018-03-08T10:03:36.609947Z"
    },
    "collapsed": true
   },
   "outputs": [],
   "source": [
    "dataset.close()"
   ]
  },
  {
   "cell_type": "code",
   "execution_count": 442,
   "metadata": {
    "ExecuteTime": {
     "end_time": "2018-03-08T13:17:52.497554Z",
     "start_time": "2018-03-08T13:17:52.493950Z"
    }
   },
   "outputs": [],
   "source": [
    "fp = np.array('test').astype('|S9')\n",
    "dataset.attrs.create(\"newest_p_read\", b\"testetest\")"
   ]
  },
  {
   "cell_type": "code",
   "execution_count": 438,
   "metadata": {
    "ExecuteTime": {
     "end_time": "2018-03-08T13:16:55.195745Z",
     "start_time": "2018-03-08T13:16:55.191407Z"
    }
   },
   "outputs": [
    {
     "data": {
      "text/plain": [
       "10"
      ]
     },
     "execution_count": 438,
     "metadata": {},
     "output_type": "execute_result"
    }
   ],
   "source": [
    "string = (\"test\")\n",
    "dataset.attrs[\"newest_i_read\"]"
   ]
  },
  {
   "cell_type": "code",
   "execution_count": 429,
   "metadata": {
    "ExecuteTime": {
     "end_time": "2018-03-08T13:08:30.672705Z",
     "start_time": "2018-03-08T13:08:30.668415Z"
    }
   },
   "outputs": [
    {
     "data": {
      "text/plain": [
       "\"b'test'\""
      ]
     },
     "execution_count": 429,
     "metadata": {},
     "output_type": "execute_result"
    }
   ],
   "source": [
    "str(dataset.attrs[\"newest_read\"][0])"
   ]
  },
  {
   "cell_type": "code",
   "execution_count": 446,
   "metadata": {
    "ExecuteTime": {
     "end_time": "2018-03-08T13:18:19.831031Z",
     "start_time": "2018-03-08T13:18:19.827874Z"
    },
    "collapsed": true
   },
   "outputs": [],
   "source": [
    "dataset.attrs[\"newest_p_read\"] = \"tesssssssstssssssadda\""
   ]
  },
  {
   "cell_type": "code",
   "execution_count": 447,
   "metadata": {
    "ExecuteTime": {
     "end_time": "2018-03-08T13:18:26.239585Z",
     "start_time": "2018-03-08T13:18:26.235255Z"
    }
   },
   "outputs": [
    {
     "data": {
      "text/plain": [
       "'tesssssssstssssssadda'"
      ]
     },
     "execution_count": 447,
     "metadata": {},
     "output_type": "execute_result"
    }
   ],
   "source": [
    "dataset.attrs[\"newest_p_read\"]"
   ]
  },
  {
   "cell_type": "code",
   "execution_count": null,
   "metadata": {
    "collapsed": true
   },
   "outputs": [],
   "source": []
  }
 ],
 "metadata": {
  "kernelspec": {
   "display_name": "SWP35",
   "language": "python",
   "name": "swp35"
  },
  "language_info": {
   "codemirror_mode": {
    "name": "ipython",
    "version": 3
   },
   "file_extension": ".py",
   "mimetype": "text/x-python",
   "name": "python",
   "nbconvert_exporter": "python",
   "pygments_lexer": "ipython3",
   "version": "3.5.0"
  },
  "toc": {
   "nav_menu": {},
   "number_sections": true,
   "sideBar": true,
   "skip_h1_title": false,
   "toc_cell": false,
   "toc_position": {},
   "toc_section_display": "block",
   "toc_window_display": false
  }
 },
 "nbformat": 4,
 "nbformat_minor": 2
}
