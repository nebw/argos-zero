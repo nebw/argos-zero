{
 "cells": [
  {
   "cell_type": "code",
   "execution_count": 26,
   "metadata": {
    "ExecuteTime": {
     "end_time": "2018-03-08T12:53:01.354292Z",
     "start_time": "2018-03-08T12:53:01.337272Z"
    }
   },
   "outputs": [],
   "source": [
    "import h5py\n",
    "import os\n",
    "import sys\n",
    "import uuid\n",
    "from datetime import datetime\n",
    "import AGZtraining"
   ]
  },
  {
   "cell_type": "code",
   "execution_count": 18,
   "metadata": {
    "ExecuteTime": {
     "end_time": "2018-03-08T10:28:24.521541Z",
     "start_time": "2018-03-08T10:28:24.515807Z"
    }
   },
   "outputs": [],
   "source": [
    "sys.path.append('./Model_Evaluation')"
   ]
  },
  {
   "cell_type": "code",
   "execution_count": 19,
   "metadata": {
    "ExecuteTime": {
     "end_time": "2018-03-08T10:28:24.746285Z",
     "start_time": "2018-03-08T10:28:24.735310Z"
    }
   },
   "outputs": [],
   "source": [
    "from matchsystem import MatchSystem"
   ]
  },
  {
   "cell_type": "code",
   "execution_count": 3,
   "metadata": {
    "collapsed": true
   },
   "outputs": [],
   "source": [
    "hd5_folder_path = \"./testhd5\""
   ]
  },
  {
   "cell_type": "code",
   "execution_count": 25,
   "metadata": {
    "ExecuteTime": {
     "end_time": "2018-03-08T11:25:42.177197Z",
     "start_time": "2018-03-08T11:25:42.160431Z"
    }
   },
   "outputs": [],
   "source": [
    "server_path = '/var/www/html/argos/'"
   ]
  },
  {
   "cell_type": "code",
   "execution_count": 29,
   "metadata": {
    "ExecuteTime": {
     "end_time": "2018-03-08T13:05:41.986154Z",
     "start_time": "2018-03-08T13:05:41.974046Z"
    }
   },
   "outputs": [],
   "source": [
    "server_path = '/home/julianstastny/Downloads/'"
   ]
  },
  {
   "cell_type": "code",
   "execution_count": null,
   "metadata": {
    "collapsed": true
   },
   "outputs": [],
   "source": [
    "# initialisation\n",
    "file_used_for_last_training = \"game_record-0000.h5\"\n",
    "threshold = 25000 #games that we need to trigger training"
   ]
  },
  {
   "cell_type": "code",
   "execution_count": 38,
   "metadata": {
    "ExecuteTime": {
     "end_time": "2018-03-09T09:39:30.487870Z",
     "start_time": "2018-03-09T09:39:30.479365Z"
    }
   },
   "outputs": [],
   "source": [
    "def new_is_better(old_network, new_network, numMatches=400):\n",
    "    match = MatchSystem(playerOne = old_network, playerTwo = new_network)\n",
    "    match_result = match.runMatches(numMatches)\n",
    "    return match_result['playerOne'] <= sum(match_result.items())*0.45"
   ]
  },
  {
   "cell_type": "code",
   "execution_count": 27,
   "metadata": {
    "ExecuteTime": {
     "end_time": "2018-03-08T12:59:56.109919Z",
     "start_time": "2018-03-08T12:59:56.083667Z"
    }
   },
   "outputs": [
    {
     "ename": "IndentationError",
     "evalue": "expected an indented block (<ipython-input-27-0df63915622a>, line 33)",
     "output_type": "error",
     "traceback": [
      "\u001b[0;36m  File \u001b[0;32m\"<ipython-input-27-0df63915622a>\"\u001b[0;36m, line \u001b[0;32m33\u001b[0m\n\u001b[0;31m    # update index file on server with new network name\u001b[0m\n\u001b[0m                                                       ^\u001b[0m\n\u001b[0;31mIndentationError\u001b[0m\u001b[0;31m:\u001b[0m expected an indented block\n"
     ]
    }
   ],
   "source": [
    "file_list = []\n",
    "for file_name in os.listdir(hd5_folder_path):\n",
    "    if file_name.endswith(\".h5\"):\n",
    "        file_list.append(file_name)\n",
    "        \n",
    "# sort file list according to contained number in filename\n",
    "file_list.sort()\n",
    "\n",
    "# how many games are inside the files\n",
    "# the last file is still in progress, new games are appended\n",
    "# we therefore use the before-last game\n",
    "while True:\n",
    "    num_of_games = 0\n",
    "    for file_name in file_list[-2::-1]:\n",
    "        if file_name == file_used_for_last_training:\n",
    "            break\n",
    "        f = h5py.File(hd5_folder_path+file_name)\n",
    "        num = f[\"game_record\"].attrs[\"count_id\"]\n",
    "        num_of_games += num\n",
    "    \n",
    "    if num_of_games > threshold:\n",
    "        \n",
    "        new_network = AGZtraining.train(export_path = server_path)\n",
    "        \n",
    "        file_used_for_last_training = file_list[-2]\n",
    "        \n",
    "        uuid_old_network = open(server_path + 'best-weights', 'r')\n",
    "        old_network_with_threshold = uuid_old_network.readline()\n",
    "        old_network_with_threshold.split(';')\n",
    "        old_network = old_network_with_threshold[0]\n",
    "        uuid_old_network.close()\n",
    "        \n",
    "        if new_is_better(old_network, new_network):\n",
    "            best_weights = open(server_path + 'best-weights', 'w')\n",
    "            best_weights.write(new_network + ';' + resign_threshold)\n",
    "            best_weights.close()\n",
    "        \n",
    "    else:\n",
    "        time.sleep(30)"
   ]
  },
  {
   "cell_type": "code",
   "execution_count": 40,
   "metadata": {
    "ExecuteTime": {
     "end_time": "2018-03-09T10:39:01.293789Z",
     "start_time": "2018-03-09T10:39:01.282821Z"
    }
   },
   "outputs": [
    {
     "name": "stdout",
     "output_type": "stream",
     "text": [
      "4\n",
      "3\n",
      "2\n",
      "1\n"
     ]
    }
   ],
   "source": [
    "l = [1,2,3,4,5]\n",
    "for i in l[-2::-1]:\n",
    "    print (i)"
   ]
  },
  {
   "cell_type": "code",
   "execution_count": null,
   "metadata": {},
   "outputs": [],
   "source": []
  }
 ],
 "metadata": {
  "kernelspec": {
   "display_name": "Python 3",
   "language": "python",
   "name": "python3"
  },
  "language_info": {
   "codemirror_mode": {
    "name": "ipython",
    "version": 3
   },
   "file_extension": ".py",
   "mimetype": "text/x-python",
   "name": "python",
   "nbconvert_exporter": "python",
   "pygments_lexer": "ipython3",
   "version": "3.6.4"
  },
  "toc": {
   "nav_menu": {},
   "number_sections": true,
   "sideBar": true,
   "skip_h1_title": false,
   "toc_cell": false,
   "toc_position": {},
   "toc_section_display": "block",
   "toc_window_display": false
  }
 },
 "nbformat": 4,
 "nbformat_minor": 1
}
