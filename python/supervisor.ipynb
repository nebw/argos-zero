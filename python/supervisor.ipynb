{
 "cells": [
  {
   "cell_type": "code",
   "execution_count": 26,
   "metadata": {
    "ExecuteTime": {
     "end_time": "2018-03-08T12:53:01.354292Z",
     "start_time": "2018-03-08T12:53:01.337272Z"
    }
   },
   "outputs": [],
   "source": [
    "import h5py\n",
    "import os\n",
    "import sys\n",
    "import uuid\n",
    "from datetime import datetime\n",
    "import AGZtraining"
   ]
  },
  {
   "cell_type": "code",
   "execution_count": 18,
   "metadata": {
    "ExecuteTime": {
     "end_time": "2018-03-08T10:28:24.521541Z",
     "start_time": "2018-03-08T10:28:24.515807Z"
    }
   },
   "outputs": [],
   "source": [
    "sys.path.append('./Model Evaluation')"
   ]
  },
  {
   "cell_type": "code",
   "execution_count": 19,
   "metadata": {
    "ExecuteTime": {
     "end_time": "2018-03-08T10:28:24.746285Z",
     "start_time": "2018-03-08T10:28:24.735310Z"
    }
   },
   "outputs": [],
   "source": [
    "from matchsystem import MatchSystem"
   ]
  },
  {
   "cell_type": "code",
   "execution_count": 3,
   "metadata": {
    "collapsed": true
   },
   "outputs": [],
   "source": [
    "hd5_folder_path = \"./testhd5\""
   ]
  },
  {
   "cell_type": "code",
   "execution_count": 25,
   "metadata": {
    "ExecuteTime": {
     "end_time": "2018-03-08T11:25:42.177197Z",
     "start_time": "2018-03-08T11:25:42.160431Z"
    }
   },
   "outputs": [],
   "source": [
    "server_path = '/var/www/html/argos/'"
   ]
  },
  {
   "cell_type": "code",
   "execution_count": 29,
   "metadata": {
    "ExecuteTime": {
     "end_time": "2018-03-08T13:05:41.986154Z",
     "start_time": "2018-03-08T13:05:41.974046Z"
    }
   },
   "outputs": [],
   "source": [
    "server_path = '/home/julianstastny/Downloads/'"
   ]
  },
  {
   "cell_type": "code",
   "execution_count": null,
   "metadata": {
    "collapsed": true
   },
   "outputs": [],
   "source": [
    "# initialisation\n",
    "file_used_for_last_training = \"\"\n",
    "threshold = 25000 #games that we need to trigger training"
   ]
  },
  {
   "cell_type": "code",
   "execution_count": 21,
   "metadata": {
    "ExecuteTime": {
     "end_time": "2018-03-08T10:39:03.276985Z",
     "start_time": "2018-03-08T10:39:03.262028Z"
    }
   },
   "outputs": [],
   "source": [
    "def new_is_better(old_network, new_network):\n",
    "    match = MatchSystem(playerOne = old_network, playerTwo = new_network)\n",
    "    match_result = match.runMatches(numMatches = 400)\n",
    "    return match_result['playerOne'] <= sum(match_result.items())*0.45"
   ]
  },
  {
   "cell_type": "code",
   "execution_count": 37,
   "metadata": {
    "ExecuteTime": {
     "end_time": "2018-03-08T13:29:55.235577Z",
     "start_time": "2018-03-08T13:29:55.226206Z"
    }
   },
   "outputs": [
    {
     "name": "stdout",
     "output_type": "stream",
     "text": [
      "1e6ec450-845e-4a46-92e2-59fa6234bbfc\n"
     ]
    }
   ],
   "source": [
    "print(uuid.uuid4())"
   ]
  },
  {
   "cell_type": "code",
   "execution_count": 27,
   "metadata": {
    "ExecuteTime": {
     "end_time": "2018-03-08T12:59:56.109919Z",
     "start_time": "2018-03-08T12:59:56.083667Z"
    }
   },
   "outputs": [
    {
     "ename": "IndentationError",
     "evalue": "expected an indented block (<ipython-input-27-0df63915622a>, line 33)",
     "output_type": "error",
     "traceback": [
      "\u001b[0;36m  File \u001b[0;32m\"<ipython-input-27-0df63915622a>\"\u001b[0;36m, line \u001b[0;32m33\u001b[0m\n\u001b[0;31m    # update index file on server with new network name\u001b[0m\n\u001b[0m                                                       ^\u001b[0m\n\u001b[0;31mIndentationError\u001b[0m\u001b[0;31m:\u001b[0m expected an indented block\n"
     ]
    }
   ],
   "source": [
    "file_list = []\n",
    "for file in os.listdir(hd5_folder_path):\n",
    "    if file.endswith(\".h5\"):\n",
    "        file_list.append(file)\n",
    "        \n",
    "# sort file list according to contained number in filename\n",
    "file_list.sort()\n",
    "\n",
    "# how many games are inside the files\n",
    "# the last file is still in progress, new games are appended\n",
    "# we therefore use the before-last game\n",
    "while True:\n",
    "    num_of_games = 0\n",
    "    for file in reversed(file_list)[1:]:\n",
    "        if file == file_used_for_last_training:\n",
    "            break\n",
    "        f = h5py.File(hd5_folder_path+file)\n",
    "        num = f[\"game_record\"].attrs[\"count_id\"]\n",
    "        num_of_games += num\n",
    "\n",
    "    if num_of_games > threshold:\n",
    "        \n",
    "        new_network = AGZtraining.train(server_path)\n",
    "        \n",
    "        uuid_old_network = open(server_path + 'best-weights', 'r')\n",
    "        old_network = uuid_old_network.readline()\n",
    "        uuid_old_network.close()\n",
    "    \n",
    "        file_used_for_last_training = reversed(file_list[1])\n",
    "        \n",
    "        if new_is_better(old_network, new_network):\n",
    "            best_weights = open(server_path + 'best-weights', 'w')\n",
    "            best_weights.write(new_network)\n",
    "            best_weights.write(resign_threshold)\n",
    "            best_weights.close()\n",
    "\n",
    "            #OPTIONAL: determine threshold for new network\n",
    "\n",
    "            # update index file on server with new network name\n"
   ]
  },
  {
   "cell_type": "code",
   "execution_count": null,
   "metadata": {
    "collapsed": true
   },
   "outputs": [],
   "source": []
  },
  {
   "cell_type": "code",
   "execution_count": null,
   "metadata": {
    "collapsed": true
   },
   "outputs": [],
   "source": [
    "def new_is_better(network1, network2):\n",
    "    "
   ]
  },
  {
   "cell_type": "code",
   "execution_count": null,
   "metadata": {
    "collapsed": true
   },
   "outputs": [],
   "source": []
  },
  {
   "cell_type": "code",
   "execution_count": null,
   "metadata": {
    "collapsed": true
   },
   "outputs": [],
   "source": []
  }
 ],
 "metadata": {
  "kernelspec": {
   "display_name": "Python 3",
   "language": "python",
   "name": "python3"
  },
  "language_info": {
   "codemirror_mode": {
    "name": "ipython",
    "version": 2
   },
   "file_extension": ".py",
   "mimetype": "text/x-python",
   "name": "python",
   "nbconvert_exporter": "python",
   "pygments_lexer": "ipython2",
   "version": "2.7.13"
  }
 },
 "nbformat": 4,
 "nbformat_minor": 1
}
