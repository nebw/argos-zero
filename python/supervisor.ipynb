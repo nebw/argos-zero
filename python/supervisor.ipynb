{
 "cells": [
  {
   "cell_type": "code",
   "execution_count": 6,
   "metadata": {
    "collapsed": true
   },
   "outputs": [],
   "source": [
    "import h5py\n",
    "import os"
   ]
  },
  {
   "cell_type": "code",
   "execution_count": 3,
   "metadata": {
    "collapsed": true
   },
   "outputs": [],
   "source": [
    "hd5_folder_path = \"./testhd5\""
   ]
  },
  {
   "cell_type": "code",
   "execution_count": null,
   "metadata": {
    "collapsed": true
   },
   "outputs": [],
   "source": [
    "# initialisation\n",
    "file_used_for_last_training = \"\"\n",
    "threshold = 25000 #games that we need to trigger training"
   ]
  },
  {
   "cell_type": "code",
   "execution_count": 4,
   "metadata": {
    "collapsed": true
   },
   "outputs": [],
   "source": [
    "file_list = []\n",
    "for file in os.listdir(hd5_folder_path):\n",
    "    if file.endswith(\".h5\"):\n",
    "        file_list.append(file)\n",
    "        \n",
    "# sort file list according to contained number in filename\n",
    "file_list.sort()\n",
    "\n",
    "# how many games are inside the files\n",
    "# the last file is still in progress, new games are appended\n",
    "# we therefore use the before-last game\n",
    "while True:\n",
    "    num_of_games = 0\n",
    "    for file in reversed(file_list)[1:]:\n",
    "        if file == file_used_for_last_training:\n",
    "            break\n",
    "        f = h5py.File(hd5_folder_path+file)\n",
    "        num = f[\"game_record\"].attrs[\"count_id\"]\n",
    "        num_of_games += num\n",
    "\n",
    "    if num_of_games > treshold:\n",
    "        #trigger training\n",
    "\n",
    "        file_used_for_last_training = reversed(file_list[1])\n",
    "        \n",
    "    # 2. part: compare if new network is betten than old one\n",
    "    if new_is_better(old_network, new_network):\n",
    "        #save new network to disk\n",
    "        \n",
    "        #OPTIONAL: determine threshold for new network\n",
    "        \n",
    "        # update index file on server with new network name\n"
   ]
  },
  {
   "cell_type": "code",
   "execution_count": null,
   "metadata": {
    "collapsed": true
   },
   "outputs": [],
   "source": []
  },
  {
   "cell_type": "code",
   "execution_count": null,
   "metadata": {
    "collapsed": true
   },
   "outputs": [],
   "source": [
    "def new_is_better(network1, network2):\n",
    "    "
   ]
  },
  {
   "cell_type": "code",
   "execution_count": null,
   "metadata": {
    "collapsed": true
   },
   "outputs": [],
   "source": []
  },
  {
   "cell_type": "code",
   "execution_count": null,
   "metadata": {
    "collapsed": true
   },
   "outputs": [],
   "source": []
  }
 ],
 "metadata": {
  "kernelspec": {
   "display_name": "Python 3",
   "language": "python",
   "name": "python3"
  },
  "language_info": {
   "codemirror_mode": {
    "name": "ipython",
    "version": 2
   },
   "file_extension": ".py",
   "mimetype": "text/x-python",
   "name": "python",
   "nbconvert_exporter": "python",
   "pygments_lexer": "ipython2",
   "version": "2.7.13"
  }
 },
 "nbformat": 4,
 "nbformat_minor": 1
}
