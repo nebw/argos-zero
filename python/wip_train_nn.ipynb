{
 "cells": [
  {
   "cell_type": "code",
   "execution_count": 3,
   "metadata": {
    "ExecuteTime": {
     "end_time": "2018-03-02T13:49:34.736651Z",
     "start_time": "2018-03-02T13:49:34.067083Z"
    },
    "collapsed": true
   },
   "outputs": [],
   "source": [
    "import numpy as np\n",
    "import mxnet as mx\n",
    "from mxnet import nd, autograd, gluon\n",
    "import sys\n",
    "import h5py\n"
   ]
  },
  {
   "cell_type": "code",
   "execution_count": 4,
   "metadata": {
    "ExecuteTime": {
     "end_time": "2018-03-02T13:49:35.576229Z",
     "start_time": "2018-03-02T13:49:35.571316Z"
    },
    "collapsed": true
   },
   "outputs": [],
   "source": [
    "valnet_data = h5py.File('/Users/valentinwolf/Documents/Studium/Machine_Learning/SoftwareProjekt/data/val_mount/data-val-all-combined.h5', 'r')\n",
    "polnet_data = h5py.File('/Users/valentinwolf/Documents/Studium/Machine_Learning/SoftwareProjekt/data/pol_point/data-pol-gogod-tygem-combined.h5', 'r')"
   ]
  },
  {
   "cell_type": "code",
   "execution_count": 3,
   "metadata": {
    "ExecuteTime": {
     "end_time": "2018-03-02T12:59:50.113163Z",
     "start_time": "2018-03-02T12:59:50.108395Z"
    },
    "collapsed": true
   },
   "outputs": [],
   "source": [
    "vX_train = valnet_data['X']\n",
    "vY_train = valnet_data['Y']\n",
    "\n",
    "vX_val = valnet_data['X']\n",
    "vY_val = valnet_data['Y']\n",
    "\n",
    "pX_train = polnet_data['X']\n",
    "pY_train = polnet_data['Y']\n",
    "\n",
    "pX_val = polnet_data['X']\n",
    "pY_val = polnet_data['Y']"
   ]
  },
  {
   "cell_type": "code",
   "execution_count": 4,
   "metadata": {
    "ExecuteTime": {
     "end_time": "2018-03-02T12:59:54.266355Z",
     "start_time": "2018-03-02T12:59:54.253271Z"
    }
   },
   "outputs": [
    {
     "data": {
      "text/plain": [
       "<HDF5 dataset \"X\": shape (22993072, 49, 19, 19), type \"|b1\">"
      ]
     },
     "execution_count": 4,
     "metadata": {},
     "output_type": "execute_result"
    }
   ],
   "source": [
    "vX"
   ]
  },
  {
   "cell_type": "code",
   "execution_count": 8,
   "metadata": {
    "ExecuteTime": {
     "end_time": "2018-03-02T13:00:32.126314Z",
     "start_time": "2018-03-02T13:00:32.122121Z"
    }
   },
   "outputs": [
    {
     "data": {
      "text/plain": [
       "<HDF5 dataset \"Y\": shape (22993072,), type \"|b1\">"
      ]
     },
     "execution_count": 8,
     "metadata": {},
     "output_type": "execute_result"
    }
   ],
   "source": [
    "vY"
   ]
  },
  {
   "cell_type": "code",
   "execution_count": 17,
   "metadata": {
    "ExecuteTime": {
     "end_time": "2018-03-02T13:02:59.940406Z",
     "start_time": "2018-03-02T13:02:59.936784Z"
    }
   },
   "outputs": [
    {
     "data": {
      "text/plain": [
       "<HDF5 dataset \"X\": shape (79327539, 49, 19, 19), type \"|b1\">"
      ]
     },
     "execution_count": 17,
     "metadata": {},
     "output_type": "execute_result"
    }
   ],
   "source": [
    "pX"
   ]
  },
  {
   "cell_type": "code",
   "execution_count": 18,
   "metadata": {
    "ExecuteTime": {
     "end_time": "2018-03-02T13:03:02.558853Z",
     "start_time": "2018-03-02T13:03:02.554979Z"
    }
   },
   "outputs": [
    {
     "data": {
      "text/plain": [
       "<HDF5 dataset \"Y\": shape (79327539,), type \"<i8\">"
      ]
     },
     "execution_count": 18,
     "metadata": {},
     "output_type": "execute_result"
    }
   ],
   "source": [
    "pY"
   ]
  },
  {
   "cell_type": "code",
   "execution_count": 16,
   "metadata": {
    "ExecuteTime": {
     "end_time": "2018-03-02T13:02:21.967313Z",
     "start_time": "2018-03-02T13:02:21.960448Z"
    }
   },
   "outputs": [
    {
     "data": {
      "text/plain": [
       "array([267, 131, 192, 145, 117,  10, 135, 273,  73, 328,  39,  65, 106,\n",
       "       122, 228, 141, 202, 281,  39, 179, 235,  62, 291,  60,  61, 218,\n",
       "       315, 197,   9,  94, 143, 159,  87, 249, 197,  47, 115,  73,  87,\n",
       "       258, 349, 233,   3, 120, 131,  42, 149, 292, 335,  83, 240, 140,\n",
       "        87,  30,  56,  93, 288, 158, 294, 338, 124, 357, 278,  47, 112,\n",
       "       255, 104, 271, 242, 286, 213, 126, 245, 315,  30,  33, 267,  80,\n",
       "       158, 255, 301, 296,  12, 117, 314,  42, 156,  94, 302, 123, 177,\n",
       "       327, 355, 248,  25, 129,  92,  44, 195, 196])"
      ]
     },
     "execution_count": 16,
     "metadata": {},
     "output_type": "execute_result"
    }
   ],
   "source": [
    "pY[0:100]"
   ]
  },
  {
   "cell_type": "code",
   "execution_count": 19,
   "metadata": {
    "ExecuteTime": {
     "end_time": "2018-03-02T13:30:48.171885Z",
     "start_time": "2018-03-02T13:30:47.333666Z"
    },
    "collapsed": true
   },
   "outputs": [],
   "source": [
    "ctx = mx.cpu() #mx.gpu()\n",
    "batch_size = 128\n",
    "\n",
    "piter = mx.io.NDArrayIter(pX, pY, batch_size=batch_size, last_batch_handle='roll_over')\n",
    "viter = mx.io.NDArrayIter(vX, vY, batch_size=batch_size, last_batch_handle='roll_over')\n",
    "\n",
    "def _conv3x3(channels, stride, in_channels, kernel_size, groups, padding):\n",
    "    return gluon.nn.Conv2D(channels, kernel_size=kernel_size, strides=stride, padding=padding,\n",
    "                     use_bias=False, in_channels=in_channels, groups=groups)\n",
    "\n",
    "class BasicBlockV2(gluon.HybridBlock):\n",
    "    def __init__(self, channels, stride=1, in_channels=0, **kwargs):\n",
    "        super(BasicBlockV2, self).__init__(**kwargs)\n",
    "        self.convs = gluon.nn.HybridSequential()\n",
    "        self.convs.add(gluon.nn.BatchNorm())\n",
    "        self.convs.add(gluon.nn.LeakyReLU(alpha=0.3))\n",
    "        self.convs.add(_conv3x3(channels, stride, in_channels, 3, 1, 1))\n",
    "        self.convs.add(gluon.nn.BatchNorm())\n",
    "        self.convs.add(gluon.nn.LeakyReLU(alpha=0.3))\n",
    "        self.convs.add(_conv3x3(channels, 1, channels, 3, 1, 1))\n",
    "\n",
    "    def hybrid_forward(self, F, x):\n",
    "        residual = x\n",
    "        x = self.convs(x)\n",
    "        return x + residual\n",
    "\n",
    "class CombinedNet(gluon.HybridBlock):\n",
    "    def __init__(self, num_filters, num_blocks, **kwargs):\n",
    "        super(CombinedNet, self).__init__(**kwargs)\n",
    "\n",
    "        with self.name_scope():\n",
    "            self.convs = gluon.nn.HybridSequential()\n",
    "            self.convs.add(gluon.nn.Conv2D(num_filters, 3, padding=1))\n",
    "            self.convs.add(gluon.nn.LeakyReLU(alpha=0.3))\n",
    "\n",
    "            for _ in range(num_blocks):\n",
    "                self.convs.add(BasicBlockV2(num_filters))\n",
    "\n",
    "            self.convs.add(gluon.nn.Conv2D(num_filters, 3, padding=1))\n",
    "            self.convs.add(gluon.nn.LeakyReLU(alpha=0.3))\n",
    "\n",
    "            self.value = gluon.nn.HybridSequential()\n",
    "            self.value.add(gluon.nn.Conv2D(2, 3, padding=1))\n",
    "            self.value.add(gluon.nn.LeakyReLU(alpha=0.3))\n",
    "            self.value.add(gluon.nn.Flatten())\n",
    "            self.value.add(gluon.nn.Dense(num_filters))\n",
    "            self.value.add(gluon.nn.LeakyReLU(alpha=0.3))\n",
    "            self.value.add(gluon.nn.Dense(1))\n",
    "\n",
    "            self.policy = gluon.nn.HybridSequential()\n",
    "            self.policy.add(gluon.nn.Conv2D(2, 3, padding=1))\n",
    "            self.policy.add(gluon.nn.LeakyReLU(alpha=0.3))\n",
    "            self.policy.add(gluon.nn.Flatten())\n",
    "            self.policy.add(gluon.nn.Dense((19 * 19 + 1) * 2))\n",
    "            self.policy.add(gluon.nn.LeakyReLU(alpha=0.3))\n",
    "            self.policy.add(gluon.nn.Dense(19 * 19 + 1))\n",
    "\n",
    "    def hybrid_forward(self, F, x):\n",
    "        x = self.convs(x)\n",
    "        p = self.policy(x)\n",
    "        v = self.value(x)\n",
    "\n",
    "        return F.softmax(p), F.sigmoid(v), p, v\n",
    "\n",
    "net = CombinedNet(64, 4)\n",
    "net.collect_params().initialize(mx.init.MSRAPrelu(), ctx=ctx)\n",
    "net.hybridize()\n",
    "\n",
    "policy_loss = gluon.loss.SoftmaxCrossEntropyLoss() #sparse_label=False\n",
    "policy_loss.hybridize()\n",
    "\n",
    "value_loss = gluon.loss.SigmoidBCELoss()\n",
    "value_loss.hybridize()\n",
    "\n",
    "trainer = gluon.Trainer(net.collect_params(), 'NAG', {'learning_rate': .1, 'momentum':.9, 'wd': 1e-10})\n",
    "\n",
    "def rmean(series, win=1000):\n",
    "    return np.mean(series[-win:])\n",
    "\n",
    "closses = []\n",
    "vlosses = []\n",
    "plosses = []\n",
    "vaccs = []\n",
    "paccs = []\n",
    "\n",
    "sigmoid = gluon.nn.Activation('sigmoid')\n",
    "\n"
   ]
  },
  {
   "cell_type": "code",
   "execution_count": null,
   "metadata": {
    "collapsed": true
   },
   "outputs": [],
   "source": [
    "def wrap_iter(it):\n",
    "    while True:\n",
    "        try:\n",
    "            yield it.next()\n",
    "        except StopIteration:\n",
    "            it.reset()\n",
    "\n",
    "for i, (pbatch, vbatch) in enumerate(zip(wrap_iter(piter), wrap_iter(viter))):\n",
    "    # use AlphaGo Zero feature planes\n",
    "    vx = mx.ndarray.concat(vbatch.data[0][:, :4, :, :], vbatch.data[0][:, 37:45, :, :], dim=1).as_in_context(ctx)\n",
    "    vy = vbatch.label[0].as_in_context(ctx)\n",
    "\n",
    "    px = mx.ndarray.concat(pbatch.data[0][:, :4, :, :], pbatch.data[0][:, 37:45, :, :], dim=1).as_in_context(ctx)\n",
    "    py = pbatch.label[0].as_in_context(ctx)\n",
    "\n",
    "    with autograd.record():\n",
    "        _, _, _, vp = net(vx)\n",
    "        vloss = value_loss(vp, vy)\n",
    "\n",
    "        _, _, pp, _ = net(px)\n",
    "        ploss = policy_loss(pp, py)\n",
    "        \n",
    "        #Future:\n",
    "        #_, _, pp, vp = net(x)\n",
    "        #vloss = value_loss(vp, vy)\n",
    "        #ploss = policy_loss(pp, py)\n",
    "\n",
    "        combined_loss = (vloss.mean() + ploss.mean())\n",
    "        combined_loss.backward()\n",
    "\n",
    "    closses.append(combined_loss.as_in_context(mx.cpu()).asnumpy()[0])\n",
    "    vlosses.append(vloss.as_in_context(mx.cpu()).asnumpy()[0])\n",
    "    plosses.append(ploss.as_in_context(mx.cpu()).asnumpy()[0])\n",
    "    paccs.append((pp.argmax(axis=-1) == py).mean().as_in_context(mx.cpu()).asnumpy()[0] * 100)\n",
    "    vaccs.append(((sigmoid(vp) > .5).flatten()[:, 0] == vy).mean().as_in_context(mx.cpu()).asnumpy()[0] * 100)\n",
    "\n",
    "    trainer.step(batch_size)\n",
    "\n",
    "    sys.stdout.write('\\r{}: C:{:.3f}, V:{:.3f} ({:.1f}%), P:{:.3f} ({:.1f}%)'.format(\n",
    "        i, rmean(closses), rmean(vlosses), rmean(vaccs), rmean(plosses), rmean(paccs)))\n",
    "\n",
    "    if i == 1000000:\n",
    "        break"
   ]
  },
  {
   "cell_type": "code",
   "execution_count": 1,
   "metadata": {
    "ExecuteTime": {
     "end_time": "2018-03-02T13:49:04.510177Z",
     "start_time": "2018-03-02T13:49:04.448189Z"
    }
   },
   "outputs": [
    {
     "ename": "NameError",
     "evalue": "name 'net' is not defined",
     "output_type": "error",
     "traceback": [
      "\u001b[0;31m---------------------------------------------------------------------------\u001b[0m",
      "\u001b[0;31mNameError\u001b[0m                                 Traceback (most recent call last)",
      "\u001b[0;32m<ipython-input-1-249c0d240f97>\u001b[0m in \u001b[0;36m<module>\u001b[0;34m()\u001b[0m\n\u001b[0;32m----> 1\u001b[0;31m \u001b[0mnet\u001b[0m\u001b[0;34m.\u001b[0m\u001b[0mexport\u001b[0m\u001b[0;34m(\u001b[0m\u001b[0;34m'net.json'\u001b[0m\u001b[0;34m)\u001b[0m\u001b[0;34m\u001b[0m\u001b[0m\n\u001b[0m",
      "\u001b[0;31mNameError\u001b[0m: name 'net' is not defined"
     ]
    }
   ],
   "source": [
    "net.export('net.json')"
   ]
  },
  {
   "cell_type": "code",
   "execution_count": 7,
   "metadata": {
    "ExecuteTime": {
     "end_time": "2018-03-02T13:52:49.078631Z",
     "start_time": "2018-03-02T13:52:49.074256Z"
    }
   },
   "outputs": [
    {
     "data": {
      "text/plain": [
       "array([0, 1, 2, 3, 4, 5, 6, 7])"
      ]
     },
     "execution_count": 7,
     "metadata": {},
     "output_type": "execute_result"
    }
   ],
   "source": [
    "x = np.asarray(range(10))\n",
    "x[:-2]"
   ]
  },
  {
   "cell_type": "code",
   "execution_count": null,
   "metadata": {
    "collapsed": true
   },
   "outputs": [],
   "source": []
  }
 ],
 "metadata": {
  "kernelspec": {
   "display_name": "SWP35",
   "language": "python",
   "name": "swp35"
  },
  "language_info": {
   "codemirror_mode": {
    "name": "ipython",
    "version": 3
   },
   "file_extension": ".py",
   "mimetype": "text/x-python",
   "name": "python",
   "nbconvert_exporter": "python",
   "pygments_lexer": "ipython3",
   "version": "3.5.0"
  },
  "toc": {
   "nav_menu": {},
   "number_sections": true,
   "sideBar": true,
   "skip_h1_title": false,
   "toc_cell": false,
   "toc_position": {},
   "toc_section_display": "block",
   "toc_window_display": false
  }
 },
 "nbformat": 4,
 "nbformat_minor": 2
}
